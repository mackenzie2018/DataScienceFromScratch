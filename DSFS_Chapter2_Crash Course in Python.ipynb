{
 "cells": [
  {
   "cell_type": "code",
   "execution_count": 1,
   "metadata": {
    "ExecuteTime": {
     "end_time": "2020-03-11T17:01:08.204751Z",
     "start_time": "2020-03-11T17:01:07.474512Z"
    }
   },
   "outputs": [],
   "source": [
    "import numpy as np\n",
    "import pandas as pd\n",
    "import os"
   ]
  },
  {
   "cell_type": "markdown",
   "metadata": {},
   "source": [
    "# Functions"
   ]
  },
  {
   "cell_type": "markdown",
   "metadata": {},
   "source": [
    "Functions in Python are \"first class\", meaning you can assign them to variables and pass them as inputs to other functions if you want."
   ]
  },
  {
   "cell_type": "code",
   "execution_count": 2,
   "metadata": {
    "ExecuteTime": {
     "end_time": "2020-03-11T17:01:08.214725Z",
     "start_time": "2020-03-11T17:01:08.206748Z"
    }
   },
   "outputs": [
    {
     "name": "stdout",
     "output_type": "stream",
     "text": [
      "2\n"
     ]
    }
   ],
   "source": [
    "def double(x):\n",
    "    return 2*x\n",
    "\n",
    "def apply_to_one(f):\n",
    "    \"\"\"Calls the function f with 1 as its argument.\"\"\"\n",
    "    return f(1)\n",
    "\n",
    "my_double = double\n",
    "x = apply_to_one(my_double)\n",
    "\n",
    "print(x)"
   ]
  },
  {
   "cell_type": "markdown",
   "metadata": {},
   "source": [
    "lambdas are \"anonymous\" functions that are self-contained"
   ]
  },
  {
   "cell_type": "code",
   "execution_count": 3,
   "metadata": {
    "ExecuteTime": {
     "end_time": "2020-03-11T17:01:08.339601Z",
     "start_time": "2020-03-11T17:01:08.335633Z"
    }
   },
   "outputs": [
    {
     "name": "stdout",
     "output_type": "stream",
     "text": [
      "5\n"
     ]
    }
   ],
   "source": [
    "y = apply_to_one(lambda x: x +4)\n",
    "print(y)\n",
    "\n",
    "# Because lambda is a function it apply_to_one assigns x the value 1 "
   ]
  },
  {
   "cell_type": "markdown",
   "metadata": {},
   "source": [
    "Default arguments to functions are specified in the opening line:"
   ]
  },
  {
   "cell_type": "code",
   "execution_count": 4,
   "metadata": {
    "ExecuteTime": {
     "end_time": "2020-03-11T17:01:08.675432Z",
     "start_time": "2020-03-11T17:01:08.670486Z"
    }
   },
   "outputs": [
    {
     "name": "stdout",
     "output_type": "stream",
     "text": [
      "Hello\n",
      "my default message\n"
     ]
    }
   ],
   "source": [
    "def my_print(message=\"my default message\"):\n",
    "    print(message)\n",
    "    \n",
    "my_print(\"Hello\")\n",
    "my_print()"
   ]
  },
  {
   "cell_type": "markdown",
   "metadata": {},
   "source": [
    "You can also specify arguments by name:"
   ]
  },
  {
   "cell_type": "code",
   "execution_count": 5,
   "metadata": {
    "ExecuteTime": {
     "end_time": "2020-03-11T17:01:09.044544Z",
     "start_time": "2020-03-11T17:01:09.030625Z"
    }
   },
   "outputs": [
    {
     "data": {
      "text/plain": [
       "'Joe Mackenzie'"
      ]
     },
     "execution_count": 5,
     "metadata": {},
     "output_type": "execute_result"
    }
   ],
   "source": [
    "def full_name(first=\"Joe\",last=\"Bloggs\"):\n",
    "    return first + \" \" + last\n",
    "\n",
    "full_name(\"Joel\",\"Gros\")\n",
    "full_name(\"Joel\")\n",
    "full_name(last='Mackenzie')"
   ]
  },
  {
   "cell_type": "markdown",
   "metadata": {},
   "source": [
    "# Strings"
   ]
  },
  {
   "cell_type": "markdown",
   "metadata": {},
   "source": [
    "Python treats special characters like tab, newline as one charater delineated by a backslash.\n",
    "\n",
    "To interpret backslashes as backslashes, preface your string quotations with an \"r\"."
   ]
  },
  {
   "cell_type": "code",
   "execution_count": 6,
   "metadata": {
    "ExecuteTime": {
     "end_time": "2020-03-11T17:01:09.560269Z",
     "start_time": "2020-03-11T17:01:09.554268Z"
    }
   },
   "outputs": [
    {
     "name": "stdout",
     "output_type": "stream",
     "text": [
      "1\n",
      "2\n"
     ]
    }
   ],
   "source": [
    "print(len(\"\\t\"))\n",
    "print(len(r\"\\t\"))"
   ]
  },
  {
   "cell_type": "markdown",
   "metadata": {},
   "source": [
    "Use triple-quotes to create multiline strings:"
   ]
  },
  {
   "cell_type": "code",
   "execution_count": 7,
   "metadata": {
    "ExecuteTime": {
     "end_time": "2020-03-11T17:01:10.125348Z",
     "start_time": "2020-03-11T17:01:10.120345Z"
    }
   },
   "outputs": [
    {
     "name": "stdout",
     "output_type": "stream",
     "text": [
      "This is line 1.\n",
      "This is line 2.\n",
      "This is line 3.\n"
     ]
    }
   ],
   "source": [
    "multi_line = \"\"\"This is line 1.\n",
    "This is line 2.\n",
    "This is line 3.\"\"\"\n",
    "\n",
    "print(multi_line)"
   ]
  },
  {
   "cell_type": "markdown",
   "metadata": {},
   "source": [
    "f-strings are useful when incorporating the value(s) of variable(s) into your string:"
   ]
  },
  {
   "cell_type": "code",
   "execution_count": 8,
   "metadata": {
    "ExecuteTime": {
     "end_time": "2020-03-11T17:01:10.633425Z",
     "start_time": "2020-03-11T17:01:10.629429Z"
    }
   },
   "outputs": [
    {
     "name": "stdout",
     "output_type": "stream",
     "text": [
      "Calum Mackenzie\n",
      "Calum Mackenzie\n"
     ]
    }
   ],
   "source": [
    "first_name = \"Calum\"\n",
    "last_name = \"Mackenzie\"\n",
    "\n",
    "full_name = first_name + \" \" + last_name\n",
    "\n",
    "print(f\"{first_name} {last_name}\")\n",
    "print(\"{0} {1}\".format(first_name,last_name))"
   ]
  },
  {
   "cell_type": "markdown",
   "metadata": {},
   "source": [
    "# Exceptions"
   ]
  },
  {
   "cell_type": "markdown",
   "metadata": {},
   "source": [
    "Exceptions tell Python what to do when it runs into errors in your code, rather than just crash."
   ]
  },
  {
   "cell_type": "code",
   "execution_count": 9,
   "metadata": {
    "ExecuteTime": {
     "end_time": "2020-03-11T17:01:11.131120Z",
     "start_time": "2020-03-11T17:01:11.128168Z"
    }
   },
   "outputs": [
    {
     "name": "stdout",
     "output_type": "stream",
     "text": [
      "Can't divide by zero.\n"
     ]
    }
   ],
   "source": [
    "try:\n",
    "    print(0/0)\n",
    "except ZeroDivisionError:\n",
    "    print(\"Can't divide by zero.\")"
   ]
  },
  {
   "cell_type": "markdown",
   "metadata": {},
   "source": [
    "# Lists"
   ]
  },
  {
   "cell_type": "code",
   "execution_count": 10,
   "metadata": {
    "ExecuteTime": {
     "end_time": "2020-03-11T17:01:11.536055Z",
     "start_time": "2020-03-11T17:01:11.528079Z"
    }
   },
   "outputs": [
    {
     "name": "stdout",
     "output_type": "stream",
     "text": [
      "4\n",
      "3\n"
     ]
    }
   ],
   "source": [
    "integer_list = [1,2,3]\n",
    "hetero_list = [1,'a',3.14,True]\n",
    "list_of_lists = [integer_list,\n",
    "                 hetero_list,\n",
    "                 []]\n",
    "\n",
    "print(len(hetero_list))\n",
    "print(len(list_of_lists))"
   ]
  },
  {
   "cell_type": "markdown",
   "metadata": {},
   "source": [
    "## Membership "
   ]
  },
  {
   "cell_type": "code",
   "execution_count": 11,
   "metadata": {
    "ExecuteTime": {
     "end_time": "2020-03-11T17:01:11.890206Z",
     "start_time": "2020-03-11T17:01:11.882229Z"
    }
   },
   "outputs": [
    {
     "data": {
      "text/plain": [
       "True"
      ]
     },
     "execution_count": 11,
     "metadata": {},
     "output_type": "execute_result"
    }
   ],
   "source": [
    "1 in [1,2,3]"
   ]
  },
  {
   "cell_type": "code",
   "execution_count": 12,
   "metadata": {
    "ExecuteTime": {
     "end_time": "2020-03-11T17:01:12.077789Z",
     "start_time": "2020-03-11T17:01:12.071843Z"
    }
   },
   "outputs": [
    {
     "data": {
      "text/plain": [
       "False"
      ]
     },
     "execution_count": 12,
     "metadata": {},
     "output_type": "execute_result"
    }
   ],
   "source": [
    "5 in \"a,b,c\".split(\",\")"
   ]
  },
  {
   "cell_type": "markdown",
   "metadata": {},
   "source": [
    "## Slicing"
   ]
  },
  {
   "cell_type": "code",
   "execution_count": 13,
   "metadata": {
    "ExecuteTime": {
     "end_time": "2020-03-11T17:01:12.450878Z",
     "start_time": "2020-03-11T17:01:12.443882Z"
    }
   },
   "outputs": [
    {
     "data": {
      "text/plain": [
       "[0, 1, 2, 3, 4, 5, 6, 7, 8, 9]"
      ]
     },
     "execution_count": 13,
     "metadata": {},
     "output_type": "execute_result"
    }
   ],
   "source": [
    "x = list(range(0,10))\n",
    "x"
   ]
  },
  {
   "cell_type": "code",
   "execution_count": 14,
   "metadata": {
    "ExecuteTime": {
     "end_time": "2020-03-11T17:01:12.642520Z",
     "start_time": "2020-03-11T17:01:12.635014Z"
    }
   },
   "outputs": [
    {
     "data": {
      "text/plain": [
       "[0, 1, 2]"
      ]
     },
     "execution_count": 14,
     "metadata": {},
     "output_type": "execute_result"
    }
   ],
   "source": [
    "x[:3]"
   ]
  },
  {
   "cell_type": "code",
   "execution_count": 15,
   "metadata": {
    "ExecuteTime": {
     "end_time": "2020-03-11T17:01:12.807580Z",
     "start_time": "2020-03-11T17:01:12.797639Z"
    }
   },
   "outputs": [
    {
     "data": {
      "text/plain": [
       "[3, 4, 5, 6, 7, 8, 9]"
      ]
     },
     "execution_count": 15,
     "metadata": {},
     "output_type": "execute_result"
    }
   ],
   "source": [
    "x[3:]"
   ]
  },
  {
   "cell_type": "code",
   "execution_count": 16,
   "metadata": {
    "ExecuteTime": {
     "end_time": "2020-03-11T17:01:13.010925Z",
     "start_time": "2020-03-11T17:01:13.004912Z"
    }
   },
   "outputs": [
    {
     "data": {
      "text/plain": [
       "[0, 1, 2, 3, 4, 5, 6, 7, 8, 9]"
      ]
     },
     "execution_count": 16,
     "metadata": {},
     "output_type": "execute_result"
    }
   ],
   "source": [
    "x[:]"
   ]
  },
  {
   "cell_type": "code",
   "execution_count": 17,
   "metadata": {
    "ExecuteTime": {
     "end_time": "2020-03-11T17:01:13.195536Z",
     "start_time": "2020-03-11T17:01:13.189516Z"
    }
   },
   "outputs": [
    {
     "data": {
      "text/plain": [
       "[1, 2, 3, 4, 5, 6, 7, 8]"
      ]
     },
     "execution_count": 17,
     "metadata": {},
     "output_type": "execute_result"
    }
   ],
   "source": [
    "x[1:-1]"
   ]
  },
  {
   "cell_type": "code",
   "execution_count": 18,
   "metadata": {
    "ExecuteTime": {
     "end_time": "2020-03-11T17:01:13.342336Z",
     "start_time": "2020-03-11T17:01:13.337310Z"
    }
   },
   "outputs": [
    {
     "data": {
      "text/plain": [
       "[0, 3, 6, 9]"
      ]
     },
     "execution_count": 18,
     "metadata": {},
     "output_type": "execute_result"
    }
   ],
   "source": [
    "x[::3]"
   ]
  },
  {
   "cell_type": "code",
   "execution_count": 19,
   "metadata": {
    "ExecuteTime": {
     "end_time": "2020-03-11T17:01:13.569886Z",
     "start_time": "2020-03-11T17:01:13.562914Z"
    }
   },
   "outputs": [
    {
     "data": {
      "text/plain": [
       "[5, 4, 3]"
      ]
     },
     "execution_count": 19,
     "metadata": {},
     "output_type": "execute_result"
    }
   ],
   "source": [
    "x[5:2:-1]"
   ]
  },
  {
   "cell_type": "markdown",
   "metadata": {},
   "source": [
    "## Extension"
   ]
  },
  {
   "cell_type": "code",
   "execution_count": 20,
   "metadata": {
    "ExecuteTime": {
     "end_time": "2020-03-11T17:01:13.938918Z",
     "start_time": "2020-03-11T17:01:13.930985Z"
    }
   },
   "outputs": [
    {
     "data": {
      "text/plain": [
       "[1, 2, 3, 4, 5, 6]"
      ]
     },
     "execution_count": 20,
     "metadata": {},
     "output_type": "execute_result"
    }
   ],
   "source": [
    "y = [1,2,3]\n",
    "\n",
    "y.extend([4,5,6])\n",
    "\n",
    "y"
   ]
  },
  {
   "cell_type": "code",
   "execution_count": 21,
   "metadata": {
    "ExecuteTime": {
     "end_time": "2020-03-11T17:01:14.128762Z",
     "start_time": "2020-03-11T17:01:14.121782Z"
    }
   },
   "outputs": [
    {
     "data": {
      "text/plain": [
       "[1, 2, 3, [4, 5, 6]]"
      ]
     },
     "execution_count": 21,
     "metadata": {},
     "output_type": "execute_result"
    }
   ],
   "source": [
    "y = [1,2,3]\n",
    "\n",
    "y.append([4,5,6])\n",
    "\n",
    "y"
   ]
  },
  {
   "cell_type": "code",
   "execution_count": 22,
   "metadata": {
    "ExecuteTime": {
     "end_time": "2020-03-11T17:01:14.315660Z",
     "start_time": "2020-03-11T17:01:14.309715Z"
    }
   },
   "outputs": [
    {
     "data": {
      "text/plain": [
       "[1, 2, 3, 4, 5, 6]"
      ]
     },
     "execution_count": 22,
     "metadata": {},
     "output_type": "execute_result"
    }
   ],
   "source": [
    "x = [1,2,3]\n",
    "\n",
    "y = x + [4,5,6]\n",
    "\n",
    "y"
   ]
  },
  {
   "cell_type": "markdown",
   "metadata": {},
   "source": [
    "## Unpacking"
   ]
  },
  {
   "cell_type": "code",
   "execution_count": 23,
   "metadata": {
    "ExecuteTime": {
     "end_time": "2020-03-11T17:01:14.710217Z",
     "start_time": "2020-03-11T17:01:14.707258Z"
    }
   },
   "outputs": [],
   "source": [
    "x, y = [1,2]"
   ]
  },
  {
   "cell_type": "markdown",
   "metadata": {},
   "source": [
    "You raise an error if the number of variables on the left doesn't equal the length of the list."
   ]
  },
  {
   "cell_type": "code",
   "execution_count": 24,
   "metadata": {
    "ExecuteTime": {
     "end_time": "2020-03-11T17:01:15.189371Z",
     "start_time": "2020-03-11T17:01:15.111462Z"
    }
   },
   "outputs": [
    {
     "ename": "ValueError",
     "evalue": "not enough values to unpack (expected 3, got 2)",
     "output_type": "error",
     "traceback": [
      "\u001b[1;31m---------------------------------------------------------------------------\u001b[0m",
      "\u001b[1;31mValueError\u001b[0m                                Traceback (most recent call last)",
      "\u001b[1;32m<ipython-input-24-76334a439439>\u001b[0m in \u001b[0;36m<module>\u001b[1;34m\u001b[0m\n\u001b[1;32m----> 1\u001b[1;33m \u001b[0mx\u001b[0m\u001b[1;33m,\u001b[0m \u001b[0my\u001b[0m\u001b[1;33m,\u001b[0m \u001b[0mz\u001b[0m \u001b[1;33m=\u001b[0m \u001b[1;33m[\u001b[0m\u001b[1;36m4\u001b[0m\u001b[1;33m,\u001b[0m\u001b[1;36m5\u001b[0m\u001b[1;33m]\u001b[0m\u001b[1;33m\u001b[0m\u001b[1;33m\u001b[0m\u001b[0m\n\u001b[0m",
      "\u001b[1;31mValueError\u001b[0m: not enough values to unpack (expected 3, got 2)"
     ]
    }
   ],
   "source": [
    "x, y, z = [4,5]"
   ]
  },
  {
   "cell_type": "markdown",
   "metadata": {},
   "source": [
    "Convention: assign values you aren't using to variable _"
   ]
  },
  {
   "cell_type": "code",
   "execution_count": 25,
   "metadata": {
    "ExecuteTime": {
     "end_time": "2020-03-11T17:01:15.531978Z",
     "start_time": "2020-03-11T17:01:15.525026Z"
    }
   },
   "outputs": [
    {
     "data": {
      "text/plain": [
       "8"
      ]
     },
     "execution_count": 25,
     "metadata": {},
     "output_type": "execute_result"
    }
   ],
   "source": [
    "_, y = [7,8]\n",
    "\n",
    "y"
   ]
  },
  {
   "cell_type": "markdown",
   "metadata": {},
   "source": [
    "# Tuples"
   ]
  },
  {
   "cell_type": "markdown",
   "metadata": {},
   "source": [
    "Just like lists, but they're immutable"
   ]
  },
  {
   "cell_type": "code",
   "execution_count": 26,
   "metadata": {
    "ExecuteTime": {
     "end_time": "2020-03-11T17:01:16.120847Z",
     "start_time": "2020-03-11T17:01:16.113822Z"
    }
   },
   "outputs": [
    {
     "name": "stdout",
     "output_type": "stream",
     "text": [
      "Can't modify a tuple!\n"
     ]
    }
   ],
   "source": [
    "lil_tup = (1,2)\n",
    "\n",
    "try:\n",
    "    lil_tup[1] = 3\n",
    "except TypeError:\n",
    "    print(\"Can't modify a tuple!\")"
   ]
  },
  {
   "cell_type": "markdown",
   "metadata": {},
   "source": [
    "they're convenient for returning values from functions:"
   ]
  },
  {
   "cell_type": "code",
   "execution_count": 27,
   "metadata": {
    "ExecuteTime": {
     "end_time": "2020-03-11T17:01:16.539555Z",
     "start_time": "2020-03-11T17:01:16.533235Z"
    }
   },
   "outputs": [],
   "source": [
    "def sum_and_prod(x,y):\n",
    "    return (x + y), (x * y)\n",
    "\n",
    "sp = sum_and_prod(2,3)\n",
    "s,p = sum_and_prod(5,10)"
   ]
  },
  {
   "cell_type": "code",
   "execution_count": 28,
   "metadata": {
    "ExecuteTime": {
     "end_time": "2020-03-11T17:01:16.745579Z",
     "start_time": "2020-03-11T17:01:16.740594Z"
    }
   },
   "outputs": [
    {
     "name": "stdout",
     "output_type": "stream",
     "text": [
      "(5, 6)\n",
      "15\n",
      "50\n"
     ]
    }
   ],
   "source": [
    "print(sp)\n",
    "print(s)\n",
    "print(p)"
   ]
  },
  {
   "cell_type": "markdown",
   "metadata": {},
   "source": [
    "They (and lists) can be used for \"multiple assignment\":"
   ]
  },
  {
   "cell_type": "code",
   "execution_count": 29,
   "metadata": {
    "ExecuteTime": {
     "end_time": "2020-03-11T17:01:17.147365Z",
     "start_time": "2020-03-11T17:01:17.142380Z"
    }
   },
   "outputs": [
    {
     "name": "stdout",
     "output_type": "stream",
     "text": [
      "1\n",
      "2\n"
     ]
    }
   ],
   "source": [
    "x,y = 1,2\n",
    "print(x)\n",
    "x,y = y,x # Super pythonic\n",
    "print(x)"
   ]
  },
  {
   "cell_type": "markdown",
   "metadata": {},
   "source": [
    "# Dictionaries"
   ]
  },
  {
   "cell_type": "markdown",
   "metadata": {},
   "source": [
    "Fundamental data structure. Dicts map keys -> values"
   ]
  },
  {
   "cell_type": "code",
   "execution_count": 30,
   "metadata": {
    "ExecuteTime": {
     "end_time": "2020-03-11T17:01:17.711938Z",
     "start_time": "2020-03-11T17:01:17.706988Z"
    }
   },
   "outputs": [],
   "source": [
    "empty_dict = {} # Pythonic\n",
    "empty_dict2 = dict() # Not so pythonic\n",
    "grades = {\"Joel\":80,\"Tim\":95} # Literal"
   ]
  },
  {
   "cell_type": "code",
   "execution_count": 31,
   "metadata": {
    "ExecuteTime": {
     "end_time": "2020-03-11T17:01:17.913028Z",
     "start_time": "2020-03-11T17:01:17.909408Z"
    }
   },
   "outputs": [
    {
     "name": "stdout",
     "output_type": "stream",
     "text": [
      "80\n"
     ]
    }
   ],
   "source": [
    "joels_grade = grades[\"Joel\"]\n",
    "print(joels_grade)"
   ]
  },
  {
   "cell_type": "markdown",
   "metadata": {},
   "source": [
    "You raise a KeyError if you ask for a key that isnt in the dict:"
   ]
  },
  {
   "cell_type": "code",
   "execution_count": 32,
   "metadata": {
    "ExecuteTime": {
     "end_time": "2020-03-11T17:01:18.359990Z",
     "start_time": "2020-03-11T17:01:18.355931Z"
    }
   },
   "outputs": [
    {
     "name": "stdout",
     "output_type": "stream",
     "text": [
      "No grade for them!\n"
     ]
    }
   ],
   "source": [
    "try:\n",
    "    grades[\"Jess\"]\n",
    "except KeyError:\n",
    "    print(\"No grade for them!\")"
   ]
  },
  {
   "cell_type": "markdown",
   "metadata": {},
   "source": [
    "## Membership"
   ]
  },
  {
   "cell_type": "code",
   "execution_count": 33,
   "metadata": {
    "ExecuteTime": {
     "end_time": "2020-03-11T17:01:18.851485Z",
     "start_time": "2020-03-11T17:01:18.844495Z"
    }
   },
   "outputs": [
    {
     "data": {
      "text/plain": [
       "False"
      ]
     },
     "execution_count": 33,
     "metadata": {},
     "output_type": "execute_result"
    }
   ],
   "source": [
    "\"Steven\" in grades"
   ]
  },
  {
   "cell_type": "code",
   "execution_count": 34,
   "metadata": {
    "ExecuteTime": {
     "end_time": "2020-03-11T17:01:19.048982Z",
     "start_time": "2020-03-11T17:01:19.043995Z"
    }
   },
   "outputs": [
    {
     "data": {
      "text/plain": [
       "True"
      ]
     },
     "execution_count": 34,
     "metadata": {},
     "output_type": "execute_result"
    }
   ],
   "source": [
    "\"Tim\" in grades"
   ]
  },
  {
   "cell_type": "markdown",
   "metadata": {},
   "source": [
    "Dicts have a .get method that returns a default value rather than raise an exception when you look up a key that is not in the dict:"
   ]
  },
  {
   "cell_type": "code",
   "execution_count": 35,
   "metadata": {
    "ExecuteTime": {
     "end_time": "2020-03-11T17:01:19.479441Z",
     "start_time": "2020-03-11T17:01:19.475453Z"
    }
   },
   "outputs": [],
   "source": [
    "joels_grade = grades.get(\"Joel\",0) # 80\n",
    "bens_grade = grades.get(\"Ben\",0) # 0 default\n",
    "nobodys_grade = grades.get(\"Nobody\") # None default"
   ]
  },
  {
   "cell_type": "markdown",
   "metadata": {},
   "source": [
    "## Assignment"
   ]
  },
  {
   "cell_type": "markdown",
   "metadata": {},
   "source": [
    "Add new k-v pairs with square brackets:"
   ]
  },
  {
   "cell_type": "code",
   "execution_count": 36,
   "metadata": {
    "ExecuteTime": {
     "end_time": "2020-03-11T17:01:20.091227Z",
     "start_time": "2020-03-11T17:01:20.085280Z"
    }
   },
   "outputs": [
    {
     "name": "stdout",
     "output_type": "stream",
     "text": [
      "3\n"
     ]
    }
   ],
   "source": [
    "grades[\"Tim\"] = 90 # Updated value\n",
    "grades[\"Kate\"] = 100 # New value\n",
    "num_students = len(grades)\n",
    "print(num_students)"
   ]
  },
  {
   "cell_type": "markdown",
   "metadata": {},
   "source": [
    "Dicts are used to represent structured data all the time, and are very close to JSON (basically equal):"
   ]
  },
  {
   "cell_type": "code",
   "execution_count": 37,
   "metadata": {
    "ExecuteTime": {
     "end_time": "2020-03-11T17:01:20.468562Z",
     "start_time": "2020-03-11T17:01:20.461582Z"
    }
   },
   "outputs": [
    {
     "data": {
      "text/plain": [
       "{'user': 'Calum Mackenzie',\n",
       " 'text': '9/11 was an inside job',\n",
       " 'retweet_count': 100,\n",
       " 'hashtags': ['#datascience', '#accuracy', '#crypto']}"
      ]
     },
     "execution_count": 37,
     "metadata": {},
     "output_type": "execute_result"
    }
   ],
   "source": [
    "tweet = {\n",
    "    \"user\":\"Calum Mackenzie\",\n",
    "    \"text\":\"9/11 was an inside job\",\n",
    "    \"retweet_count\":100,\n",
    "    \"hashtags\":\"#datascience,#accuracy,#crypto\".split(\",\")\n",
    "}\n",
    "\n",
    "tweet"
   ]
  },
  {
   "cell_type": "markdown",
   "metadata": {},
   "source": [
    "Other super useful dict methods for accessing all keys/all values/all pairs:"
   ]
  },
  {
   "cell_type": "code",
   "execution_count": 38,
   "metadata": {
    "ExecuteTime": {
     "end_time": "2020-03-11T17:01:20.884020Z",
     "start_time": "2020-03-11T17:01:20.878031Z"
    }
   },
   "outputs": [
    {
     "data": {
      "text/plain": [
       "dict_keys(['user', 'text', 'retweet_count', 'hashtags'])"
      ]
     },
     "execution_count": 38,
     "metadata": {},
     "output_type": "execute_result"
    }
   ],
   "source": [
    "# Keys\n",
    "tweet.keys()"
   ]
  },
  {
   "cell_type": "code",
   "execution_count": 39,
   "metadata": {
    "ExecuteTime": {
     "end_time": "2020-03-11T17:01:21.150315Z",
     "start_time": "2020-03-11T17:01:21.145328Z"
    }
   },
   "outputs": [
    {
     "data": {
      "text/plain": [
       "dict_values(['Calum Mackenzie', '9/11 was an inside job', 100, ['#datascience', '#accuracy', '#crypto']])"
      ]
     },
     "execution_count": 39,
     "metadata": {},
     "output_type": "execute_result"
    }
   ],
   "source": [
    "# Values\n",
    "tweet.values()"
   ]
  },
  {
   "cell_type": "code",
   "execution_count": 40,
   "metadata": {
    "ExecuteTime": {
     "end_time": "2020-03-11T17:01:21.397447Z",
     "start_time": "2020-03-11T17:01:21.390981Z"
    }
   },
   "outputs": [
    {
     "data": {
      "text/plain": [
       "dict_items([('user', 'Calum Mackenzie'), ('text', '9/11 was an inside job'), ('retweet_count', 100), ('hashtags', ['#datascience', '#accuracy', '#crypto'])])"
      ]
     },
     "execution_count": 40,
     "metadata": {},
     "output_type": "execute_result"
    }
   ],
   "source": [
    "# Tuples of k,v\n",
    "tweet.items()"
   ]
  },
  {
   "cell_type": "markdown",
   "metadata": {},
   "source": [
    "## defaultdict"
   ]
  },
  {
   "cell_type": "markdown",
   "metadata": {},
   "source": [
    "Imagine you're trying to count the words in a document.\n",
    "\n",
    "An obvious way to do this would be to iterate over your document and define a dict where the words are the keys and the values are their count.\n",
    "\n",
    "As you iterate, if a word is already in the keys you increment by one; if not you add a new key and set its value to 1."
   ]
  },
  {
   "cell_type": "markdown",
   "metadata": {},
   "source": [
    "### basic bitch way"
   ]
  },
  {
   "cell_type": "code",
   "execution_count": 41,
   "metadata": {
    "ExecuteTime": {
     "end_time": "2020-03-11T17:01:22.141072Z",
     "start_time": "2020-03-11T17:01:22.132127Z"
    }
   },
   "outputs": [
    {
     "data": {
      "text/plain": [
       "{'Lorem': 1,\n",
       " 'ipsum': 1,\n",
       " 'dolor': 2,\n",
       " 'sit': 1,\n",
       " 'amet,': 1,\n",
       " 'consectetur': 1,\n",
       " 'adipiscing': 1,\n",
       " 'elit,': 1,\n",
       " 'sed': 1,\n",
       " 'do': 1,\n",
       " 'eiusmod': 1,\n",
       " 'tempor': 1,\n",
       " 'incididunt': 1,\n",
       " 'ut': 2,\n",
       " 'labore': 1,\n",
       " 'et': 1,\n",
       " 'dolore': 2,\n",
       " 'magna': 1,\n",
       " 'aliqua.': 1,\n",
       " 'Ut': 1,\n",
       " 'enim': 1,\n",
       " 'ad': 1,\n",
       " 'minim': 1,\n",
       " 'veniam,': 1,\n",
       " 'quis': 1,\n",
       " 'nostrud': 1,\n",
       " 'exercitation': 1,\n",
       " 'ullamco': 1,\n",
       " 'laboris': 1,\n",
       " 'nisi': 1,\n",
       " 'aliquip': 1,\n",
       " 'ex': 1,\n",
       " 'ea': 1,\n",
       " 'commodo': 1,\n",
       " 'consequat.': 1,\n",
       " 'Duis': 1,\n",
       " 'aute': 1,\n",
       " 'irure': 1,\n",
       " 'in': 3,\n",
       " 'reprehenderit': 1,\n",
       " 'voluptate': 1,\n",
       " 'velit': 1,\n",
       " 'esse': 1,\n",
       " 'cillum': 1,\n",
       " 'eu': 1,\n",
       " 'fugiat': 1,\n",
       " 'nulla': 1,\n",
       " 'pariatur.': 1,\n",
       " 'Excepteur': 1,\n",
       " 'sint': 1,\n",
       " 'occaecat': 1,\n",
       " 'cupidatat': 1,\n",
       " 'non': 1,\n",
       " 'proident,': 1,\n",
       " 'sunt': 1,\n",
       " 'culpa': 1,\n",
       " 'qui': 1,\n",
       " 'officia': 1,\n",
       " 'deserunt': 1,\n",
       " 'mollit': 1,\n",
       " 'anim': 1,\n",
       " 'id': 1,\n",
       " 'est': 1,\n",
       " 'laborum.': 1}"
      ]
     },
     "execution_count": 41,
     "metadata": {},
     "output_type": "execute_result"
    }
   ],
   "source": [
    "document = \"Lorem ipsum dolor sit amet, consectetur adipiscing elit, sed do eiusmod tempor incididunt ut labore et dolore magna aliqua. Ut enim ad minim veniam, quis nostrud exercitation ullamco laboris nisi ut aliquip ex ea commodo consequat. Duis aute irure dolor in reprehenderit in voluptate velit esse cillum dolore eu fugiat nulla pariatur. Excepteur sint occaecat cupidatat non proident, sunt in culpa qui officia deserunt mollit anim id est laborum.\".split(\" \")\n",
    "\n",
    "word_counts = {}\n",
    "for word in document:\n",
    "    if word in word_counts:\n",
    "        word_counts[word] += 1\n",
    "    else:\n",
    "        word_counts[word] = 1\n",
    "        \n",
    "word_counts"
   ]
  },
  {
   "cell_type": "markdown",
   "metadata": {},
   "source": [
    "### slightly more robust way (use an exception)"
   ]
  },
  {
   "cell_type": "code",
   "execution_count": 42,
   "metadata": {
    "ExecuteTime": {
     "end_time": "2020-03-11T17:01:22.488265Z",
     "start_time": "2020-03-11T17:01:22.479329Z"
    }
   },
   "outputs": [
    {
     "data": {
      "text/plain": [
       "{'Lorem': 1,\n",
       " 'ipsum': 1,\n",
       " 'dolor': 2,\n",
       " 'sit': 1,\n",
       " 'amet,': 1,\n",
       " 'consectetur': 1,\n",
       " 'adipiscing': 1,\n",
       " 'elit,': 1,\n",
       " 'sed': 1,\n",
       " 'do': 1,\n",
       " 'eiusmod': 1,\n",
       " 'tempor': 1,\n",
       " 'incididunt': 1,\n",
       " 'ut': 2,\n",
       " 'labore': 1,\n",
       " 'et': 1,\n",
       " 'dolore': 2,\n",
       " 'magna': 1,\n",
       " 'aliqua.': 1,\n",
       " 'Ut': 1,\n",
       " 'enim': 1,\n",
       " 'ad': 1,\n",
       " 'minim': 1,\n",
       " 'veniam,': 1,\n",
       " 'quis': 1,\n",
       " 'nostrud': 1,\n",
       " 'exercitation': 1,\n",
       " 'ullamco': 1,\n",
       " 'laboris': 1,\n",
       " 'nisi': 1,\n",
       " 'aliquip': 1,\n",
       " 'ex': 1,\n",
       " 'ea': 1,\n",
       " 'commodo': 1,\n",
       " 'consequat.': 1,\n",
       " 'Duis': 1,\n",
       " 'aute': 1,\n",
       " 'irure': 1,\n",
       " 'in': 3,\n",
       " 'reprehenderit': 1,\n",
       " 'voluptate': 1,\n",
       " 'velit': 1,\n",
       " 'esse': 1,\n",
       " 'cillum': 1,\n",
       " 'eu': 1,\n",
       " 'fugiat': 1,\n",
       " 'nulla': 1,\n",
       " 'pariatur.': 1,\n",
       " 'Excepteur': 1,\n",
       " 'sint': 1,\n",
       " 'occaecat': 1,\n",
       " 'cupidatat': 1,\n",
       " 'non': 1,\n",
       " 'proident,': 1,\n",
       " 'sunt': 1,\n",
       " 'culpa': 1,\n",
       " 'qui': 1,\n",
       " 'officia': 1,\n",
       " 'deserunt': 1,\n",
       " 'mollit': 1,\n",
       " 'anim': 1,\n",
       " 'id': 1,\n",
       " 'est': 1,\n",
       " 'laborum.': 1}"
      ]
     },
     "execution_count": 42,
     "metadata": {},
     "output_type": "execute_result"
    }
   ],
   "source": [
    "word_counts = {}\n",
    "\n",
    "for word in document:\n",
    "    try:\n",
    "        word_counts[word] += 1\n",
    "    except KeyError:\n",
    "        word_counts[word] = 1\n",
    "        \n",
    "word_counts"
   ]
  },
  {
   "cell_type": "markdown",
   "metadata": {},
   "source": [
    "### slightly more elegant way (use get)"
   ]
  },
  {
   "cell_type": "code",
   "execution_count": 43,
   "metadata": {
    "ExecuteTime": {
     "end_time": "2020-03-11T17:01:22.834628Z",
     "start_time": "2020-03-11T17:01:22.824627Z"
    }
   },
   "outputs": [
    {
     "data": {
      "text/plain": [
       "{'Lorem': 1,\n",
       " 'ipsum': 1,\n",
       " 'dolor': 2,\n",
       " 'sit': 1,\n",
       " 'amet,': 1,\n",
       " 'consectetur': 1,\n",
       " 'adipiscing': 1,\n",
       " 'elit,': 1,\n",
       " 'sed': 1,\n",
       " 'do': 1,\n",
       " 'eiusmod': 1,\n",
       " 'tempor': 1,\n",
       " 'incididunt': 1,\n",
       " 'ut': 2,\n",
       " 'labore': 1,\n",
       " 'et': 1,\n",
       " 'dolore': 2,\n",
       " 'magna': 1,\n",
       " 'aliqua.': 1,\n",
       " 'Ut': 1,\n",
       " 'enim': 1,\n",
       " 'ad': 1,\n",
       " 'minim': 1,\n",
       " 'veniam,': 1,\n",
       " 'quis': 1,\n",
       " 'nostrud': 1,\n",
       " 'exercitation': 1,\n",
       " 'ullamco': 1,\n",
       " 'laboris': 1,\n",
       " 'nisi': 1,\n",
       " 'aliquip': 1,\n",
       " 'ex': 1,\n",
       " 'ea': 1,\n",
       " 'commodo': 1,\n",
       " 'consequat.': 1,\n",
       " 'Duis': 1,\n",
       " 'aute': 1,\n",
       " 'irure': 1,\n",
       " 'in': 3,\n",
       " 'reprehenderit': 1,\n",
       " 'voluptate': 1,\n",
       " 'velit': 1,\n",
       " 'esse': 1,\n",
       " 'cillum': 1,\n",
       " 'eu': 1,\n",
       " 'fugiat': 1,\n",
       " 'nulla': 1,\n",
       " 'pariatur.': 1,\n",
       " 'Excepteur': 1,\n",
       " 'sint': 1,\n",
       " 'occaecat': 1,\n",
       " 'cupidatat': 1,\n",
       " 'non': 1,\n",
       " 'proident,': 1,\n",
       " 'sunt': 1,\n",
       " 'culpa': 1,\n",
       " 'qui': 1,\n",
       " 'officia': 1,\n",
       " 'deserunt': 1,\n",
       " 'mollit': 1,\n",
       " 'anim': 1,\n",
       " 'id': 1,\n",
       " 'est': 1,\n",
       " 'laborum.': 1}"
      ]
     },
     "execution_count": 43,
     "metadata": {},
     "output_type": "execute_result"
    }
   ],
   "source": [
    "word_counts = {}\n",
    "\n",
    "for word in document:\n",
    "    previous_count = word_counts.get(word,0)\n",
    "    word_counts[word] = previous_count + 1\n",
    "    \n",
    "word_counts"
   ]
  },
  {
   "cell_type": "markdown",
   "metadata": {},
   "source": [
    "All of the above are a bit fiddly, which is why defaultdict is useful.\n",
    "\n",
    "defaultdict is exactly like a basic dictionary, except that when you look up a key not in the dict it creates this key with a default value according to a zero-argument function of your choosing.\n",
    "\n",
    "You import defaultdict from collections"
   ]
  },
  {
   "cell_type": "code",
   "execution_count": 44,
   "metadata": {
    "ExecuteTime": {
     "end_time": "2020-03-11T17:01:28.024813Z",
     "start_time": "2020-03-11T17:01:28.016877Z"
    }
   },
   "outputs": [
    {
     "data": {
      "text/plain": [
       "defaultdict(int,\n",
       "            {'Lorem': 1,\n",
       "             'ipsum': 1,\n",
       "             'dolor': 2,\n",
       "             'sit': 1,\n",
       "             'amet,': 1,\n",
       "             'consectetur': 1,\n",
       "             'adipiscing': 1,\n",
       "             'elit,': 1,\n",
       "             'sed': 1,\n",
       "             'do': 1,\n",
       "             'eiusmod': 1,\n",
       "             'tempor': 1,\n",
       "             'incididunt': 1,\n",
       "             'ut': 2,\n",
       "             'labore': 1,\n",
       "             'et': 1,\n",
       "             'dolore': 2,\n",
       "             'magna': 1,\n",
       "             'aliqua.': 1,\n",
       "             'Ut': 1,\n",
       "             'enim': 1,\n",
       "             'ad': 1,\n",
       "             'minim': 1,\n",
       "             'veniam,': 1,\n",
       "             'quis': 1,\n",
       "             'nostrud': 1,\n",
       "             'exercitation': 1,\n",
       "             'ullamco': 1,\n",
       "             'laboris': 1,\n",
       "             'nisi': 1,\n",
       "             'aliquip': 1,\n",
       "             'ex': 1,\n",
       "             'ea': 1,\n",
       "             'commodo': 1,\n",
       "             'consequat.': 1,\n",
       "             'Duis': 1,\n",
       "             'aute': 1,\n",
       "             'irure': 1,\n",
       "             'in': 3,\n",
       "             'reprehenderit': 1,\n",
       "             'voluptate': 1,\n",
       "             'velit': 1,\n",
       "             'esse': 1,\n",
       "             'cillum': 1,\n",
       "             'eu': 1,\n",
       "             'fugiat': 1,\n",
       "             'nulla': 1,\n",
       "             'pariatur.': 1,\n",
       "             'Excepteur': 1,\n",
       "             'sint': 1,\n",
       "             'occaecat': 1,\n",
       "             'cupidatat': 1,\n",
       "             'non': 1,\n",
       "             'proident,': 1,\n",
       "             'sunt': 1,\n",
       "             'culpa': 1,\n",
       "             'qui': 1,\n",
       "             'officia': 1,\n",
       "             'deserunt': 1,\n",
       "             'mollit': 1,\n",
       "             'anim': 1,\n",
       "             'id': 1,\n",
       "             'est': 1,\n",
       "             'laborum.': 1})"
      ]
     },
     "execution_count": 44,
     "metadata": {},
     "output_type": "execute_result"
    }
   ],
   "source": [
    "from collections import defaultdict\n",
    "\n",
    "word_counts = defaultdict(int) # int() produces 0\n",
    "\n",
    "for word in document:\n",
    "    word_counts[word] += 1\n",
    "    \n",
    "word_counts"
   ]
  },
  {
   "cell_type": "markdown",
   "metadata": {},
   "source": [
    "The default value can be a variety of data structures:"
   ]
  },
  {
   "cell_type": "code",
   "execution_count": 45,
   "metadata": {
    "ExecuteTime": {
     "end_time": "2020-03-11T17:01:28.040788Z",
     "start_time": "2020-03-11T17:01:28.027315Z"
    }
   },
   "outputs": [
    {
     "data": {
      "text/plain": [
       "defaultdict(list, {2: [1]})"
      ]
     },
     "execution_count": 45,
     "metadata": {},
     "output_type": "execute_result"
    }
   ],
   "source": [
    "dd_list = defaultdict(list) # an empty list\n",
    "dd_list[2].append(1)\n",
    "dd_list"
   ]
  },
  {
   "cell_type": "code",
   "execution_count": 46,
   "metadata": {
    "ExecuteTime": {
     "end_time": "2020-03-11T17:01:28.048767Z",
     "start_time": "2020-03-11T17:01:28.042783Z"
    }
   },
   "outputs": [
    {
     "data": {
      "text/plain": [
       "defaultdict(dict, {'Joel': {'City': 'Glasgow'}})"
      ]
     },
     "execution_count": 46,
     "metadata": {},
     "output_type": "execute_result"
    }
   ],
   "source": [
    "dd_dict = defaultdict(dict) # an empty dict\n",
    "dd_dict[\"Joel\"][\"City\"] = \"Glasgow\"\n",
    "dd_dict"
   ]
  },
  {
   "cell_type": "code",
   "execution_count": 47,
   "metadata": {
    "ExecuteTime": {
     "end_time": "2020-03-11T17:01:28.055750Z",
     "start_time": "2020-03-11T17:01:28.049764Z"
    }
   },
   "outputs": [
    {
     "data": {
      "text/plain": [
       "defaultdict(<function __main__.<lambda>()>, {2: [0, 1]})"
      ]
     },
     "execution_count": 47,
     "metadata": {},
     "output_type": "execute_result"
    }
   ],
   "source": [
    "dd_pair = defaultdict(lambda: [0,0]) # [0,0]\n",
    "dd_pair[2][1] = 1\n",
    "dd_pair"
   ]
  },
  {
   "cell_type": "markdown",
   "metadata": {},
   "source": [
    "# Counters"
   ]
  },
  {
   "cell_type": "markdown",
   "metadata": {},
   "source": [
    "A counter turns a sequence of values into a defaultdict(int)-like object mapping keys to counts:"
   ]
  },
  {
   "cell_type": "code",
   "execution_count": 48,
   "metadata": {
    "ExecuteTime": {
     "end_time": "2020-03-11T17:01:28.062730Z",
     "start_time": "2020-03-11T17:01:28.057744Z"
    }
   },
   "outputs": [
    {
     "data": {
      "text/plain": [
       "Counter({0: 2, 1: 1, 2: 1})"
      ]
     },
     "execution_count": 48,
     "metadata": {},
     "output_type": "execute_result"
    }
   ],
   "source": [
    "from collections import Counter\n",
    "c = Counter([0,1,2,0])\n",
    "c"
   ]
  },
  {
   "cell_type": "code",
   "execution_count": 49,
   "metadata": {
    "ExecuteTime": {
     "end_time": "2020-03-11T17:01:28.070756Z",
     "start_time": "2020-03-11T17:01:28.064724Z"
    }
   },
   "outputs": [
    {
     "data": {
      "text/plain": [
       "Counter({'Lorem': 1,\n",
       "         'ipsum': 1,\n",
       "         'dolor': 2,\n",
       "         'sit': 1,\n",
       "         'amet,': 1,\n",
       "         'consectetur': 1,\n",
       "         'adipiscing': 1,\n",
       "         'elit,': 1,\n",
       "         'sed': 1,\n",
       "         'do': 1,\n",
       "         'eiusmod': 1,\n",
       "         'tempor': 1,\n",
       "         'incididunt': 1,\n",
       "         'ut': 2,\n",
       "         'labore': 1,\n",
       "         'et': 1,\n",
       "         'dolore': 2,\n",
       "         'magna': 1,\n",
       "         'aliqua.': 1,\n",
       "         'Ut': 1,\n",
       "         'enim': 1,\n",
       "         'ad': 1,\n",
       "         'minim': 1,\n",
       "         'veniam,': 1,\n",
       "         'quis': 1,\n",
       "         'nostrud': 1,\n",
       "         'exercitation': 1,\n",
       "         'ullamco': 1,\n",
       "         'laboris': 1,\n",
       "         'nisi': 1,\n",
       "         'aliquip': 1,\n",
       "         'ex': 1,\n",
       "         'ea': 1,\n",
       "         'commodo': 1,\n",
       "         'consequat.': 1,\n",
       "         'Duis': 1,\n",
       "         'aute': 1,\n",
       "         'irure': 1,\n",
       "         'in': 3,\n",
       "         'reprehenderit': 1,\n",
       "         'voluptate': 1,\n",
       "         'velit': 1,\n",
       "         'esse': 1,\n",
       "         'cillum': 1,\n",
       "         'eu': 1,\n",
       "         'fugiat': 1,\n",
       "         'nulla': 1,\n",
       "         'pariatur.': 1,\n",
       "         'Excepteur': 1,\n",
       "         'sint': 1,\n",
       "         'occaecat': 1,\n",
       "         'cupidatat': 1,\n",
       "         'non': 1,\n",
       "         'proident,': 1,\n",
       "         'sunt': 1,\n",
       "         'culpa': 1,\n",
       "         'qui': 1,\n",
       "         'officia': 1,\n",
       "         'deserunt': 1,\n",
       "         'mollit': 1,\n",
       "         'anim': 1,\n",
       "         'id': 1,\n",
       "         'est': 1,\n",
       "         'laborum.': 1})"
      ]
     },
     "execution_count": 49,
     "metadata": {},
     "output_type": "execute_result"
    }
   ],
   "source": [
    "word_counts = Counter(document)\n",
    "word_counts"
   ]
  },
  {
   "cell_type": "markdown",
   "metadata": {},
   "source": [
    "# Sets"
   ]
  },
  {
   "cell_type": "markdown",
   "metadata": {},
   "source": [
    "Sets are a data structure that contain distinct elements i.e. no duplicates"
   ]
  },
  {
   "cell_type": "code",
   "execution_count": 50,
   "metadata": {
    "ExecuteTime": {
     "end_time": "2020-03-11T17:01:28.078687Z",
     "start_time": "2020-03-11T17:01:28.072720Z"
    }
   },
   "outputs": [
    {
     "data": {
      "text/plain": [
       "{2, 3, 5, 7}"
      ]
     },
     "execution_count": 50,
     "metadata": {},
     "output_type": "execute_result"
    }
   ],
   "source": [
    "primes_below_10 = {2,3,5,7}\n",
    "primes_below_10"
   ]
  },
  {
   "cell_type": "markdown",
   "metadata": {},
   "source": [
    "To define an empty set, you need to use set()"
   ]
  },
  {
   "cell_type": "code",
   "execution_count": 51,
   "metadata": {
    "ExecuteTime": {
     "end_time": "2020-03-11T17:01:28.085670Z",
     "start_time": "2020-03-11T17:01:28.080682Z"
    }
   },
   "outputs": [
    {
     "name": "stdout",
     "output_type": "stream",
     "text": [
      "{1, 2}\n",
      "{1, 2}\n"
     ]
    }
   ],
   "source": [
    "s = set()\n",
    "s.add(1)\n",
    "s.add(2)\n",
    "print(s)\n",
    "s.add(2)\n",
    "print(s)"
   ]
  },
  {
   "cell_type": "code",
   "execution_count": 52,
   "metadata": {
    "ExecuteTime": {
     "end_time": "2020-03-11T17:01:28.093688Z",
     "start_time": "2020-03-11T17:01:28.087665Z"
    }
   },
   "outputs": [
    {
     "data": {
      "text/plain": [
       "True"
      ]
     },
     "execution_count": 52,
     "metadata": {},
     "output_type": "execute_result"
    }
   ],
   "source": [
    "y = 2 in s\n",
    "y"
   ]
  },
  {
   "cell_type": "code",
   "execution_count": 53,
   "metadata": {
    "ExecuteTime": {
     "end_time": "2020-03-11T17:01:28.099674Z",
     "start_time": "2020-03-11T17:01:28.095644Z"
    }
   },
   "outputs": [
    {
     "data": {
      "text/plain": [
       "False"
      ]
     },
     "execution_count": 53,
     "metadata": {},
     "output_type": "execute_result"
    }
   ],
   "source": [
    "z = 5 in s\n",
    "z"
   ]
  },
  {
   "cell_type": "markdown",
   "metadata": {},
   "source": [
    "Two main benefits of sets:\n",
    "    - membership operations are *super* fast in sets\n",
    "    - great for finding the distinct elements in a collection"
   ]
  },
  {
   "cell_type": "code",
   "execution_count": 54,
   "metadata": {
    "ExecuteTime": {
     "end_time": "2020-03-11T17:01:28.108609Z",
     "start_time": "2020-03-11T17:01:28.100629Z"
    }
   },
   "outputs": [
    {
     "data": {
      "text/plain": [
       "False"
      ]
     },
     "execution_count": 54,
     "metadata": {},
     "output_type": "execute_result"
    }
   ],
   "source": [
    "stopwords_list = [\"a\", \"an\", \"at\"] + [\"...\"] + [\"yet\", \"you\"]\n",
    "\"zip\" in stopwords_list # False, but have to check every element in list\n",
    "\n",
    "stopwords_set = set(stopwords_list)\n",
    "\"zip\" in stopwords_set # False, but suuuuuuper quick to check"
   ]
  },
  {
   "cell_type": "code",
   "execution_count": 55,
   "metadata": {
    "ExecuteTime": {
     "end_time": "2020-03-11T17:01:28.116588Z",
     "start_time": "2020-03-11T17:01:28.110603Z"
    }
   },
   "outputs": [],
   "source": [
    "item_list = [1,2,3,1,2,3]\n",
    "num_items = len(item_list)\n",
    "item_set = set(item_list)\n",
    "num_distinct_items = len(item_set)\n",
    "distinct_item_list = list(item_set)"
   ]
  },
  {
   "cell_type": "markdown",
   "metadata": {},
   "source": [
    "# Sorting"
   ]
  },
  {
   "cell_type": "markdown",
   "metadata": {},
   "source": [
    "Every Python list has a sort method that sorts it in place.\n",
    "\n",
    "If you want to return a new list, use the sorted method instead."
   ]
  },
  {
   "cell_type": "code",
   "execution_count": 56,
   "metadata": {
    "ExecuteTime": {
     "end_time": "2020-03-11T17:01:28.123611Z",
     "start_time": "2020-03-11T17:01:28.118583Z"
    }
   },
   "outputs": [
    {
     "name": "stdout",
     "output_type": "stream",
     "text": [
      "[1, 2, 3, 4]\n",
      "[4, 1, 2, 3]\n",
      "[1, 2, 3, 4]\n"
     ]
    }
   ],
   "source": [
    "x = [4,1,2,3]\n",
    "print(sorted(x))\n",
    "print(x)\n",
    "x.sort(reverse=False)\n",
    "print(x)"
   ]
  },
  {
   "cell_type": "markdown",
   "metadata": {},
   "source": [
    "# List comprehensions"
   ]
  },
  {
   "cell_type": "markdown",
   "metadata": {},
   "source": [
    "The pythonic way to create lists from other lists."
   ]
  },
  {
   "cell_type": "code",
   "execution_count": 57,
   "metadata": {
    "ExecuteTime": {
     "end_time": "2020-03-11T17:01:28.131547Z",
     "start_time": "2020-03-11T17:01:28.125563Z"
    }
   },
   "outputs": [
    {
     "data": {
      "text/plain": [
       "[0, 2, 4]"
      ]
     },
     "execution_count": 57,
     "metadata": {},
     "output_type": "execute_result"
    }
   ],
   "source": [
    "even_numbers = [x for x in range(5) if x % 2 == 0]\n",
    "even_numbers"
   ]
  },
  {
   "cell_type": "code",
   "execution_count": 58,
   "metadata": {
    "ExecuteTime": {
     "end_time": "2020-03-11T17:01:28.139526Z",
     "start_time": "2020-03-11T17:01:28.132544Z"
    }
   },
   "outputs": [
    {
     "data": {
      "text/plain": [
       "[0, 1, 4, 9, 16]"
      ]
     },
     "execution_count": 58,
     "metadata": {},
     "output_type": "execute_result"
    }
   ],
   "source": [
    "squares = [x*x for x in range(5)]\n",
    "squares"
   ]
  },
  {
   "cell_type": "code",
   "execution_count": 59,
   "metadata": {
    "ExecuteTime": {
     "end_time": "2020-03-11T17:01:28.148502Z",
     "start_time": "2020-03-11T17:01:28.140523Z"
    }
   },
   "outputs": [
    {
     "data": {
      "text/plain": [
       "[0, 4, 16]"
      ]
     },
     "execution_count": 59,
     "metadata": {},
     "output_type": "execute_result"
    }
   ],
   "source": [
    "even_squares = [x*x for x in even_numbers]\n",
    "even_squares"
   ]
  },
  {
   "cell_type": "markdown",
   "metadata": {},
   "source": [
    "You can also turn lists into dictionaries or sets:"
   ]
  },
  {
   "cell_type": "code",
   "execution_count": 60,
   "metadata": {
    "ExecuteTime": {
     "end_time": "2020-03-11T17:01:28.163506Z",
     "start_time": "2020-03-11T17:01:28.151494Z"
    }
   },
   "outputs": [
    {
     "data": {
      "text/plain": [
       "{0: 0, 1: 1, 2: 4, 3: 9, 4: 16}"
      ]
     },
     "execution_count": 60,
     "metadata": {},
     "output_type": "execute_result"
    }
   ],
   "source": [
    "square_dict = {x:x*x for x in range(5)}\n",
    "square_dict"
   ]
  },
  {
   "cell_type": "code",
   "execution_count": 61,
   "metadata": {
    "ExecuteTime": {
     "end_time": "2020-03-11T17:01:28.175430Z",
     "start_time": "2020-03-11T17:01:28.165455Z"
    }
   },
   "outputs": [
    {
     "data": {
      "text/plain": [
       "{1}"
      ]
     },
     "execution_count": 61,
     "metadata": {},
     "output_type": "execute_result"
    }
   ],
   "source": [
    "square_set = {x*x for x in [1,-1]}\n",
    "square_set"
   ]
  },
  {
   "cell_type": "markdown",
   "metadata": {},
   "source": [
    "If you don't need the value from a list, its convention to use _ in the list comp"
   ]
  },
  {
   "cell_type": "code",
   "execution_count": 62,
   "metadata": {
    "ExecuteTime": {
     "end_time": "2020-03-11T17:01:28.188433Z",
     "start_time": "2020-03-11T17:01:28.176428Z"
    }
   },
   "outputs": [
    {
     "data": {
      "text/plain": [
       "[0, 0, 0]"
      ]
     },
     "execution_count": 62,
     "metadata": {},
     "output_type": "execute_result"
    }
   ],
   "source": [
    "zeros = [0 for _ in even_numbers]\n",
    "zeros"
   ]
  },
  {
   "cell_type": "markdown",
   "metadata": {},
   "source": [
    "List comps can contain multiple fors:"
   ]
  },
  {
   "cell_type": "code",
   "execution_count": 63,
   "metadata": {
    "ExecuteTime": {
     "end_time": "2020-03-11T17:01:28.200363Z",
     "start_time": "2020-03-11T17:01:28.189391Z"
    }
   },
   "outputs": [
    {
     "data": {
      "text/plain": [
       "[(0, 0),\n",
       " (0, 1),\n",
       " (0, 2),\n",
       " (0, 3),\n",
       " (0, 4),\n",
       " (0, 5),\n",
       " (0, 6),\n",
       " (0, 7),\n",
       " (0, 8),\n",
       " (0, 9),\n",
       " (1, 0),\n",
       " (1, 1),\n",
       " (1, 2),\n",
       " (1, 3),\n",
       " (1, 4),\n",
       " (1, 5),\n",
       " (1, 6),\n",
       " (1, 7),\n",
       " (1, 8),\n",
       " (1, 9),\n",
       " (2, 0),\n",
       " (2, 1),\n",
       " (2, 2),\n",
       " (2, 3),\n",
       " (2, 4),\n",
       " (2, 5),\n",
       " (2, 6),\n",
       " (2, 7),\n",
       " (2, 8),\n",
       " (2, 9),\n",
       " (3, 0),\n",
       " (3, 1),\n",
       " (3, 2),\n",
       " (3, 3),\n",
       " (3, 4),\n",
       " (3, 5),\n",
       " (3, 6),\n",
       " (3, 7),\n",
       " (3, 8),\n",
       " (3, 9),\n",
       " (4, 0),\n",
       " (4, 1),\n",
       " (4, 2),\n",
       " (4, 3),\n",
       " (4, 4),\n",
       " (4, 5),\n",
       " (4, 6),\n",
       " (4, 7),\n",
       " (4, 8),\n",
       " (4, 9),\n",
       " (5, 0),\n",
       " (5, 1),\n",
       " (5, 2),\n",
       " (5, 3),\n",
       " (5, 4),\n",
       " (5, 5),\n",
       " (5, 6),\n",
       " (5, 7),\n",
       " (5, 8),\n",
       " (5, 9),\n",
       " (6, 0),\n",
       " (6, 1),\n",
       " (6, 2),\n",
       " (6, 3),\n",
       " (6, 4),\n",
       " (6, 5),\n",
       " (6, 6),\n",
       " (6, 7),\n",
       " (6, 8),\n",
       " (6, 9),\n",
       " (7, 0),\n",
       " (7, 1),\n",
       " (7, 2),\n",
       " (7, 3),\n",
       " (7, 4),\n",
       " (7, 5),\n",
       " (7, 6),\n",
       " (7, 7),\n",
       " (7, 8),\n",
       " (7, 9),\n",
       " (8, 0),\n",
       " (8, 1),\n",
       " (8, 2),\n",
       " (8, 3),\n",
       " (8, 4),\n",
       " (8, 5),\n",
       " (8, 6),\n",
       " (8, 7),\n",
       " (8, 8),\n",
       " (8, 9),\n",
       " (9, 0),\n",
       " (9, 1),\n",
       " (9, 2),\n",
       " (9, 3),\n",
       " (9, 4),\n",
       " (9, 5),\n",
       " (9, 6),\n",
       " (9, 7),\n",
       " (9, 8),\n",
       " (9, 9)]"
      ]
     },
     "execution_count": 63,
     "metadata": {},
     "output_type": "execute_result"
    }
   ],
   "source": [
    "pairs = [(x,y) \n",
    "         for x in range(10) \n",
    "         for y in range(10)]\n",
    "\n",
    "# 100 pairs from (0,0) (0,1) ... (9,8) (9,9)\n",
    "pairs"
   ]
  },
  {
   "cell_type": "markdown",
   "metadata": {},
   "source": [
    "Later fors can use the results from earlier ones:"
   ]
  },
  {
   "cell_type": "code",
   "execution_count": 64,
   "metadata": {
    "ExecuteTime": {
     "end_time": "2020-03-11T17:01:28.210336Z",
     "start_time": "2020-03-11T17:01:28.201359Z"
    }
   },
   "outputs": [
    {
     "data": {
      "text/plain": [
       "[(0, 1),\n",
       " (0, 2),\n",
       " (0, 3),\n",
       " (0, 4),\n",
       " (0, 5),\n",
       " (0, 6),\n",
       " (0, 7),\n",
       " (0, 8),\n",
       " (0, 9),\n",
       " (1, 2),\n",
       " (1, 3),\n",
       " (1, 4),\n",
       " (1, 5),\n",
       " (1, 6),\n",
       " (1, 7),\n",
       " (1, 8),\n",
       " (1, 9),\n",
       " (2, 3),\n",
       " (2, 4),\n",
       " (2, 5),\n",
       " (2, 6),\n",
       " (2, 7),\n",
       " (2, 8),\n",
       " (2, 9),\n",
       " (3, 4),\n",
       " (3, 5),\n",
       " (3, 6),\n",
       " (3, 7),\n",
       " (3, 8),\n",
       " (3, 9),\n",
       " (4, 5),\n",
       " (4, 6),\n",
       " (4, 7),\n",
       " (4, 8),\n",
       " (4, 9),\n",
       " (5, 6),\n",
       " (5, 7),\n",
       " (5, 8),\n",
       " (5, 9),\n",
       " (6, 7),\n",
       " (6, 8),\n",
       " (6, 9),\n",
       " (7, 8),\n",
       " (7, 9),\n",
       " (8, 9)]"
      ]
     },
     "execution_count": 64,
     "metadata": {},
     "output_type": "execute_result"
    }
   ],
   "source": [
    "increasing_pairs = [(x,y) \n",
    "                    for x in range(10) \n",
    "                    for y in range(x+1,10)]\n",
    "\n",
    "increasing_pairs"
   ]
  },
  {
   "cell_type": "markdown",
   "metadata": {},
   "source": [
    "# Automated testing and assertions"
   ]
  },
  {
   "cell_type": "markdown",
   "metadata": {},
   "source": [
    "These are a great way to be confident that you're code is correct and working as intended and you should use them all the time.\n",
    "\n",
    "We'll stick to just using assert statements for now."
   ]
  },
  {
   "cell_type": "code",
   "execution_count": 65,
   "metadata": {
    "ExecuteTime": {
     "end_time": "2020-03-11T17:01:28.216362Z",
     "start_time": "2020-03-11T17:01:28.211333Z"
    }
   },
   "outputs": [],
   "source": [
    "assert 1 + 1 == 2\n",
    "assert 1 + 1 == 2, \"1 + 1 should equal 2 but it didn't\""
   ]
  },
  {
   "cell_type": "markdown",
   "metadata": {},
   "source": [
    "If the code in the assert statements yields True, nothing happens.\n",
    "\n",
    "If it's False, it raises the assertion error that you define."
   ]
  },
  {
   "cell_type": "code",
   "execution_count": 66,
   "metadata": {
    "ExecuteTime": {
     "end_time": "2020-03-11T17:01:28.222346Z",
     "start_time": "2020-03-11T17:01:28.217317Z"
    }
   },
   "outputs": [],
   "source": [
    "def smallest_items(xs):\n",
    "    return min(xs)\n",
    "\n",
    "assert smallest_items([10,20,5,40]) == 5\n",
    "assert smallest_items([1,0,-1,2]) == -1"
   ]
  },
  {
   "cell_type": "markdown",
   "metadata": {},
   "source": [
    "You can also use assertions to check inputs to functions but this is less common:"
   ]
  },
  {
   "cell_type": "code",
   "execution_count": 67,
   "metadata": {
    "ExecuteTime": {
     "end_time": "2020-03-11T17:01:28.238304Z",
     "start_time": "2020-03-11T17:01:28.225296Z"
    }
   },
   "outputs": [
    {
     "ename": "AssertionError",
     "evalue": "Empty list has no smallest item",
     "output_type": "error",
     "traceback": [
      "\u001b[1;31m---------------------------------------------------------------------------\u001b[0m",
      "\u001b[1;31mAssertionError\u001b[0m                            Traceback (most recent call last)",
      "\u001b[1;32m<ipython-input-67-844dbc05aa36>\u001b[0m in \u001b[0;36m<module>\u001b[1;34m\u001b[0m\n\u001b[0;32m      3\u001b[0m     \u001b[1;32mreturn\u001b[0m \u001b[0mmin\u001b[0m\u001b[1;33m(\u001b[0m\u001b[0mxs\u001b[0m\u001b[1;33m)\u001b[0m\u001b[1;33m\u001b[0m\u001b[1;33m\u001b[0m\u001b[0m\n\u001b[0;32m      4\u001b[0m \u001b[1;33m\u001b[0m\u001b[0m\n\u001b[1;32m----> 5\u001b[1;33m \u001b[0msmallest_items2\u001b[0m\u001b[1;33m(\u001b[0m\u001b[0mxs\u001b[0m\u001b[1;33m=\u001b[0m\u001b[1;33m[\u001b[0m\u001b[1;33m]\u001b[0m\u001b[1;33m)\u001b[0m\u001b[1;33m\u001b[0m\u001b[1;33m\u001b[0m\u001b[0m\n\u001b[0m",
      "\u001b[1;32m<ipython-input-67-844dbc05aa36>\u001b[0m in \u001b[0;36msmallest_items2\u001b[1;34m(xs)\u001b[0m\n\u001b[0;32m      1\u001b[0m \u001b[1;32mdef\u001b[0m \u001b[0msmallest_items2\u001b[0m\u001b[1;33m(\u001b[0m\u001b[0mxs\u001b[0m\u001b[1;33m)\u001b[0m\u001b[1;33m:\u001b[0m\u001b[1;33m\u001b[0m\u001b[1;33m\u001b[0m\u001b[0m\n\u001b[1;32m----> 2\u001b[1;33m     \u001b[1;32massert\u001b[0m \u001b[0mxs\u001b[0m\u001b[1;33m,\u001b[0m \u001b[1;34m\"Empty list has no smallest item\"\u001b[0m\u001b[1;33m\u001b[0m\u001b[1;33m\u001b[0m\u001b[0m\n\u001b[0m\u001b[0;32m      3\u001b[0m     \u001b[1;32mreturn\u001b[0m \u001b[0mmin\u001b[0m\u001b[1;33m(\u001b[0m\u001b[0mxs\u001b[0m\u001b[1;33m)\u001b[0m\u001b[1;33m\u001b[0m\u001b[1;33m\u001b[0m\u001b[0m\n\u001b[0;32m      4\u001b[0m \u001b[1;33m\u001b[0m\u001b[0m\n\u001b[0;32m      5\u001b[0m \u001b[0msmallest_items2\u001b[0m\u001b[1;33m(\u001b[0m\u001b[0mxs\u001b[0m\u001b[1;33m=\u001b[0m\u001b[1;33m[\u001b[0m\u001b[1;33m]\u001b[0m\u001b[1;33m)\u001b[0m\u001b[1;33m\u001b[0m\u001b[1;33m\u001b[0m\u001b[0m\n",
      "\u001b[1;31mAssertionError\u001b[0m: Empty list has no smallest item"
     ]
    }
   ],
   "source": [
    "def smallest_items2(xs):\n",
    "    assert xs, \"Empty list has no smallest item\"\n",
    "    return min(xs)\n",
    "\n",
    "smallest_items2(xs=[])"
   ]
  },
  {
   "cell_type": "markdown",
   "metadata": {},
   "source": [
    "# Classes"
   ]
  },
  {
   "cell_type": "markdown",
   "metadata": {},
   "source": [
    "Classes encapsulate data and the functions that operate on them.\n",
    "\n",
    "Kind of like recipes.\n",
    "\n",
    "By way of example, let's define a CountingClicker class that maintains a count, allows that count to clicked to increment the count, allows you to read the current count, and reset the count to zero."
   ]
  },
  {
   "cell_type": "markdown",
   "metadata": {},
   "source": [
    "To define a class you use the class keyword and PascalCase name:"
   ]
  },
  {
   "cell_type": "code",
   "execution_count": 69,
   "metadata": {
    "ExecuteTime": {
     "end_time": "2020-03-11T17:01:32.163306Z",
     "start_time": "2020-03-11T17:01:32.154330Z"
    }
   },
   "outputs": [],
   "source": [
    "class CountingClicker:\n",
    "    \"\"\"A class should have a docstring just like a function.\"\"\"\n",
    "    def __init__(self,count = 0): # A constructor, which contains the info you need and does the necessar setup to build an instance of your class\n",
    "        self.count = count\n",
    "    def __repr__(self):\n",
    "        return f\"CountingClicker(count={self.count})\"\n",
    "    def click(self,num_times=1):\n",
    "        \"\"\"Click the clicker a given number of times.\"\"\"\n",
    "        self.count += num_times\n",
    "    def read(self):\n",
    "        return self.count\n",
    "    def reset(self):\n",
    "        self.count = 0"
   ]
  },
  {
   "cell_type": "code",
   "execution_count": 70,
   "metadata": {
    "ExecuteTime": {
     "end_time": "2020-03-11T17:01:32.390364Z",
     "start_time": "2020-03-11T17:01:32.385405Z"
    }
   },
   "outputs": [],
   "source": [
    "clicker1 = CountingClicker() # default value zero\n",
    "clicker2 = CountingClicker(100) # start count at 100\n",
    "clicker3 = CountingClicker(count=100) # explicitly start count at 100"
   ]
  },
  {
   "cell_type": "code",
   "execution_count": 71,
   "metadata": {
    "ExecuteTime": {
     "end_time": "2020-03-11T17:01:32.561450Z",
     "start_time": "2020-03-11T17:01:32.555434Z"
    }
   },
   "outputs": [
    {
     "data": {
      "text/plain": [
       "'CountingClicker(count=100)'"
      ]
     },
     "execution_count": 71,
     "metadata": {},
     "output_type": "execute_result"
    }
   ],
   "source": [
    "clicker3.__repr__()"
   ]
  },
  {
   "cell_type": "markdown",
   "metadata": {},
   "source": [
    "Having defined it, lets write some assert test-cases for our clicker:"
   ]
  },
  {
   "cell_type": "code",
   "execution_count": 72,
   "metadata": {
    "ExecuteTime": {
     "end_time": "2020-03-11T17:01:32.944798Z",
     "start_time": "2020-03-11T17:01:32.937480Z"
    }
   },
   "outputs": [],
   "source": [
    "clicker = CountingClicker()\n",
    "assert clicker.read() == 0, \"clicker should start with count = 0\"\n",
    "clicker.click()\n",
    "clicker.click()\n",
    "assert clicker.read() == 2, \"after two clicks the count should equal 2\"\n",
    "clicker.reset()\n",
    "assert clicker.read() == 0, \"after reset, count should return to 0\""
   ]
  },
  {
   "cell_type": "markdown",
   "metadata": {},
   "source": [
    "# Sub-classess"
   ]
  },
  {
   "cell_type": "markdown",
   "metadata": {},
   "source": [
    "Suppose we wanted to define a non-resettable clicker. We could do so by defining a sub-class of CountingClicker that doesn't have a reset method."
   ]
  },
  {
   "cell_type": "code",
   "execution_count": 73,
   "metadata": {
    "ExecuteTime": {
     "end_time": "2020-03-11T17:01:33.500113Z",
     "start_time": "2020-03-11T17:01:33.495166Z"
    }
   },
   "outputs": [],
   "source": [
    "# A subclass inherits everything from its parent class\n",
    "class NoResetClicker(CountingClicker):\n",
    "    # This has all the same methods and attributes as CountingClicker\n",
    "    # Except that the reset method does nothing\n",
    "    def reset(self):\n",
    "        pass"
   ]
  },
  {
   "cell_type": "code",
   "execution_count": 74,
   "metadata": {
    "ExecuteTime": {
     "end_time": "2020-03-11T17:01:33.682673Z",
     "start_time": "2020-03-11T17:01:33.678727Z"
    }
   },
   "outputs": [],
   "source": [
    "clicker2 = NoResetClicker()\n",
    "assert clicker2.read() == 0\n",
    "clicker2.click()\n",
    "assert clicker2.read() == 1\n",
    "clicker2.reset()\n",
    "assert clicker2.read() == 1, \"Reset shouldn't do anything\""
   ]
  },
  {
   "cell_type": "markdown",
   "metadata": {},
   "source": [
    "# Iterables and generators"
   ]
  },
  {
   "cell_type": "markdown",
   "metadata": {},
   "source": [
    "In the interests of efficiency, when iterating through lists etc. its better to only produce the objects/values that you actually need. Imagine you had a list a billion numbers long and you only needed the 233,999,356th digit.\n",
    "\n",
    "Hence we use things called generators which can be iterated over just like lists but that produce values lazily (one at a time as needed)."
   ]
  },
  {
   "cell_type": "markdown",
   "metadata": {},
   "source": [
    "One way to create generators is to define a function and use yield (instead of return):"
   ]
  },
  {
   "cell_type": "code",
   "execution_count": 75,
   "metadata": {
    "ExecuteTime": {
     "end_time": "2020-03-11T17:01:34.429576Z",
     "start_time": "2020-03-11T17:01:34.422560Z"
    }
   },
   "outputs": [
    {
     "name": "stdout",
     "output_type": "stream",
     "text": [
      "i: 0\n",
      "i: 1\n",
      "i: 2\n",
      "i: 3\n",
      "i: 4\n",
      "i: 5\n",
      "i: 6\n",
      "i: 7\n",
      "i: 8\n",
      "i: 9\n"
     ]
    }
   ],
   "source": [
    "def generate_a_range(n):\n",
    "    i = 0\n",
    "    while i < n:\n",
    "        yield i\n",
    "        i += 1\n",
    "\n",
    "# This loop consumes the yielded values one at a time until none are left.        \n",
    "for i in generate_a_range(10):\n",
    "    print(f\"i: {i}\")"
   ]
  },
  {
   "cell_type": "markdown",
   "metadata": {},
   "source": [
    "You can also create infinite sequences:"
   ]
  },
  {
   "cell_type": "code",
   "execution_count": 76,
   "metadata": {
    "ExecuteTime": {
     "end_time": "2020-03-11T17:01:34.842281Z",
     "start_time": "2020-03-11T17:01:34.837295Z"
    }
   },
   "outputs": [],
   "source": [
    "def natural_numbers():\n",
    "    \"\"\"Returns 1, 2, 3, ...\"\"\"\n",
    "    n = 1\n",
    "    while True:\n",
    "        yield n\n",
    "        n += 1"
   ]
  },
  {
   "cell_type": "markdown",
   "metadata": {},
   "source": [
    "The increased efficiency of lazily producing values is balanced against the fact that you can only iterate through a generator once. It doesn't remember anything.\n",
    "\n",
    "Therefore, for multiple iterations you have to either define another generator or use a different approach."
   ]
  },
  {
   "cell_type": "markdown",
   "metadata": {},
   "source": [
    "Another way to create generators is to use `for` comprehensions within parentheses:"
   ]
  },
  {
   "cell_type": "code",
   "execution_count": 77,
   "metadata": {
    "ExecuteTime": {
     "end_time": "2020-03-11T17:01:35.349879Z",
     "start_time": "2020-03-11T17:01:35.342901Z"
    }
   },
   "outputs": [
    {
     "name": "stdout",
     "output_type": "stream",
     "text": [
      "<generator object <genexpr> at 0x0000018EF6A55E08>\n",
      "0\n",
      "2\n",
      "4\n",
      "6\n",
      "8\n",
      "10\n",
      "12\n",
      "14\n",
      "16\n",
      "18\n"
     ]
    }
   ],
   "source": [
    "evens_sub_20 = (i for i in generate_a_range(20) if i % 2 == 0)\n",
    "\n",
    "print(evens_sub_20)\n",
    "\n",
    "for even in evens_sub_20:\n",
    "    print(even)"
   ]
  },
  {
   "cell_type": "code",
   "execution_count": 78,
   "metadata": {
    "ExecuteTime": {
     "end_time": "2020-03-11T17:01:35.522315Z",
     "start_time": "2020-03-11T17:01:35.518328Z"
    }
   },
   "outputs": [
    {
     "name": "stdout",
     "output_type": "stream",
     "text": [
      "name 0 is Alice\n",
      "name 1 is Bob\n",
      "name 2 is Calum\n",
      "name 3 is Diana\n"
     ]
    }
   ],
   "source": [
    "names = \"Alice,Bob,Calum,Diana\".split(\",\")\n",
    "\n",
    "for i, name in enumerate(names):\n",
    "    print(f\"name {i} is {name}\")"
   ]
  },
  {
   "cell_type": "markdown",
   "metadata": {},
   "source": [
    "# Randomness"
   ]
  },
  {
   "cell_type": "markdown",
   "metadata": {},
   "source": [
    "Bread and butter data stuff requires playing with random numbers. You can do this with the `random` module."
   ]
  },
  {
   "cell_type": "code",
   "execution_count": 79,
   "metadata": {
    "ExecuteTime": {
     "end_time": "2020-03-11T17:01:36.081143Z",
     "start_time": "2020-03-11T17:01:36.075158Z"
    }
   },
   "outputs": [
    {
     "name": "stdout",
     "output_type": "stream",
     "text": [
      "[0.5714025946899135, 0.4288890546751146, 0.5780913011344704, 0.20609823213950174]\n"
     ]
    }
   ],
   "source": [
    "import random\n",
    "random.seed(10)\n",
    "\n",
    "four_uniform_randoms = [random.random() for _ in range(4)]\n",
    "print(four_uniform_randoms)"
   ]
  },
  {
   "cell_type": "code",
   "execution_count": 80,
   "metadata": {
    "ExecuteTime": {
     "end_time": "2020-03-11T17:01:36.282728Z",
     "start_time": "2020-03-11T17:01:36.275770Z"
    }
   },
   "outputs": [
    {
     "data": {
      "text/plain": [
       "7"
      ]
     },
     "execution_count": 80,
     "metadata": {},
     "output_type": "execute_result"
    }
   ],
   "source": [
    "random.randrange(10) # choose randomly from range(10)"
   ]
  },
  {
   "cell_type": "code",
   "execution_count": 81,
   "metadata": {
    "ExecuteTime": {
     "end_time": "2020-03-11T17:01:36.467654Z",
     "start_time": "2020-03-11T17:01:36.462674Z"
    }
   },
   "outputs": [
    {
     "data": {
      "text/plain": [
       "4"
      ]
     },
     "execution_count": 81,
     "metadata": {},
     "output_type": "execute_result"
    }
   ],
   "source": [
    "random.randrange(3,6) # choose randomly from range(3,6)"
   ]
  },
  {
   "cell_type": "markdown",
   "metadata": {},
   "source": [
    "`random.shuffle` randomly reorders a list like shuffling a deck of cards:"
   ]
  },
  {
   "cell_type": "code",
   "execution_count": 82,
   "metadata": {
    "ExecuteTime": {
     "end_time": "2020-03-11T17:01:36.864749Z",
     "start_time": "2020-03-11T17:01:36.858739Z"
    }
   },
   "outputs": [
    {
     "name": "stdout",
     "output_type": "stream",
     "text": [
      "[1, 2, 3, 4, 5, 6, 7, 8, 9, 10]\n",
      "[4, 5, 6, 7, 2, 9, 10, 8, 1, 3]\n"
     ]
    }
   ],
   "source": [
    "to_ten = [x for x in range(1,11)]\n",
    "print(to_ten)\n",
    "random.shuffle(to_ten)\n",
    "print(to_ten)"
   ]
  },
  {
   "cell_type": "markdown",
   "metadata": {},
   "source": [
    "`random.choice` randomly picks one element from a list:"
   ]
  },
  {
   "cell_type": "code",
   "execution_count": 83,
   "metadata": {
    "ExecuteTime": {
     "end_time": "2020-03-11T17:01:37.253195Z",
     "start_time": "2020-03-11T17:01:37.247211Z"
    }
   },
   "outputs": [
    {
     "name": "stdout",
     "output_type": "stream",
     "text": [
      "Alice\n"
     ]
    }
   ],
   "source": [
    "my_best_friends = \"Alice,Bob,Calum\".split(\",\")\n",
    "my_bestie = random.choice(my_best_friends)\n",
    "print(my_bestie)"
   ]
  },
  {
   "cell_type": "markdown",
   "metadata": {},
   "source": [
    "To randomly pick a sample of elements without replacement use `random.sample`:"
   ]
  },
  {
   "cell_type": "code",
   "execution_count": 84,
   "metadata": {
    "ExecuteTime": {
     "end_time": "2020-03-11T17:01:37.615099Z",
     "start_time": "2020-03-11T17:01:37.607121Z"
    }
   },
   "outputs": [
    {
     "name": "stdout",
     "output_type": "stream",
     "text": [
      "[38, 22, 24, 26, 18, 52]\n"
     ]
    }
   ],
   "source": [
    "lottery_numbers = range(60)\n",
    "winning_numbers = random.sample(lottery_numbers,6)\n",
    "print(winning_numbers)"
   ]
  },
  {
   "cell_type": "markdown",
   "metadata": {},
   "source": [
    "To randomly pick a sample with replacement, use `random.choice` multiple times:"
   ]
  },
  {
   "cell_type": "code",
   "execution_count": 85,
   "metadata": {
    "ExecuteTime": {
     "end_time": "2020-03-11T17:01:38.023304Z",
     "start_time": "2020-03-11T17:01:38.019314Z"
    }
   },
   "outputs": [
    {
     "name": "stdout",
     "output_type": "stream",
     "text": [
      "[4, 7, 2, 4]\n"
     ]
    }
   ],
   "source": [
    "four_with_rep = [random.choice(range(10)) for _ in range(4)]\n",
    "print(four_with_rep)"
   ]
  },
  {
   "cell_type": "markdown",
   "metadata": {},
   "source": [
    "# Regular Expressions"
   ]
  },
  {
   "cell_type": "markdown",
   "metadata": {},
   "source": [
    "Regex is a huge topic unto itself, but this covers the absolute basics.\n",
    "\n",
    "Regex = regular expression i.e. a string that matches a defined pattern like dates, bank statements, addresses, etc.\n",
    "\n",
    "Some examples:"
   ]
  },
  {
   "cell_type": "code",
   "execution_count": 86,
   "metadata": {
    "ExecuteTime": {
     "end_time": "2020-03-11T17:01:38.575585Z",
     "start_time": "2020-03-11T17:01:38.570637Z"
    }
   },
   "outputs": [],
   "source": [
    "import re"
   ]
  },
  {
   "cell_type": "code",
   "execution_count": 87,
   "metadata": {
    "ExecuteTime": {
     "end_time": "2020-03-11T17:01:38.779135Z",
     "start_time": "2020-03-11T17:01:38.772153Z"
    }
   },
   "outputs": [
    {
     "name": "stdout",
     "output_type": "stream",
     "text": [
      "True\n"
     ]
    }
   ],
   "source": [
    "re_examples = [\n",
    "    not re.match(\"a\",\"cat\"), # cat doesn't start with a\n",
    "    re.search(\"a\",\"cat\"), # cat has an a in it\n",
    "    not re.search(\"c\",\"dog\"), # dog doesn't have a c in it\n",
    "    3 == len(re.split(\"[ab]\",\"carbs\")), # Split on a or b to ['c','r','s']\n",
    "    \"R-D-\" == re.sub(\"[0-9]\",\"-\",\"R2D2\") # Replace digits with dashes\n",
    "]\n",
    "\n",
    "print(all(re_examples))"
   ]
  },
  {
   "cell_type": "markdown",
   "metadata": {},
   "source": [
    "`re.match` checks whether the beginning of a string matches a regex (think of LEFT()=='foo' in excel)\n",
    "\n",
    "`re.search` checks whether any part of a string matches the regex (think isnumber(search(\"foo\",cell)) in excel)"
   ]
  },
  {
   "cell_type": "markdown",
   "metadata": {},
   "source": [
    "# zip and Argument Unpacking"
   ]
  },
  {
   "cell_type": "markdown",
   "metadata": {},
   "source": [
    "`zip` allows you to \"zip\" two or more iterables together (hence the name).\n",
    "\n",
    "The `zip` function transforms multiple iterables intoa  single iterable of tuples:"
   ]
  },
  {
   "cell_type": "code",
   "execution_count": 88,
   "metadata": {
    "ExecuteTime": {
     "end_time": "2020-03-11T17:01:39.797267Z",
     "start_time": "2020-03-11T17:01:39.789325Z"
    }
   },
   "outputs": [
    {
     "data": {
      "text/plain": [
       "[(1, 'a'), (2, 'b'), (3, 'c')]"
      ]
     },
     "execution_count": 88,
     "metadata": {},
     "output_type": "execute_result"
    }
   ],
   "source": [
    "list1=[1,2,3]\n",
    "list2=['a','b','c']\n",
    "\n",
    "# Zip is lazy, so use list comprehensions if you have to retain the data\n",
    "[pair for pair in zip(list1,list2)]"
   ]
  },
  {
   "cell_type": "markdown",
   "metadata": {},
   "source": [
    "If the list lengths are different, `zip` stops as soon as it gets to the end of the short list."
   ]
  },
  {
   "cell_type": "markdown",
   "metadata": {},
   "source": [
    "You can unzip using this:"
   ]
  },
  {
   "cell_type": "code",
   "execution_count": 89,
   "metadata": {
    "ExecuteTime": {
     "end_time": "2020-03-11T17:01:40.447380Z",
     "start_time": "2020-03-11T17:01:40.440399Z"
    }
   },
   "outputs": [
    {
     "name": "stdout",
     "output_type": "stream",
     "text": [
      "(1, 2, 3)\n",
      "('a', 'b', 'c')\n"
     ]
    }
   ],
   "source": [
    "pairs = [pair for pair in zip(list1,list2)]\n",
    "\n",
    "letters, numbers = zip(*pairs)\n",
    "\n",
    "print(letters)\n",
    "print(numbers)"
   ]
  },
  {
   "cell_type": "markdown",
   "metadata": {},
   "source": [
    "The asterisk performs something called 'argument unpacking' which uses the elemnts of pairs as individual arguments to zip. It's equivalent to:"
   ]
  },
  {
   "cell_type": "code",
   "execution_count": 90,
   "metadata": {
    "ExecuteTime": {
     "end_time": "2020-03-11T17:01:40.851392Z",
     "start_time": "2020-03-11T17:01:40.845409Z"
    }
   },
   "outputs": [
    {
     "name": "stdout",
     "output_type": "stream",
     "text": [
      "('a', 'b', 'c')\n",
      "(1, 2, 3)\n"
     ]
    }
   ],
   "source": [
    "letters, numbers = zip(('a', 1), ('b', 2), ('c', 3))\n",
    "print(letters)\n",
    "print(numbers)"
   ]
  },
  {
   "cell_type": "markdown",
   "metadata": {},
   "source": [
    "You can use argument unpacking with any function:"
   ]
  },
  {
   "cell_type": "code",
   "execution_count": 91,
   "metadata": {
    "ExecuteTime": {
     "end_time": "2020-03-11T17:01:41.346934Z",
     "start_time": "2020-03-11T17:01:41.340949Z"
    }
   },
   "outputs": [
    {
     "name": "stdout",
     "output_type": "stream",
     "text": [
      "3\n",
      "3\n"
     ]
    }
   ],
   "source": [
    "def add(a,b): return a + b\n",
    "\n",
    "print(add(1,2))\n",
    "\n",
    "# try:\n",
    "#     add(1,2)\n",
    "# except TypeError:\n",
    "#     print(\"Add expects two inputs\")\n",
    "\n",
    "print(add(*[1,2]))"
   ]
  },
  {
   "cell_type": "markdown",
   "metadata": {},
   "source": [
    "# args and kwargs"
   ]
  },
  {
   "cell_type": "markdown",
   "metadata": {},
   "source": [
    "Let's get abstract. Suppose you wanted to define a function of a function (of a function of a function...) that:\n",
    "   - takes as input one function; and\n",
    "   - returns as output another."
   ]
  },
  {
   "cell_type": "code",
   "execution_count": 92,
   "metadata": {
    "ExecuteTime": {
     "end_time": "2020-03-11T17:08:08.923779Z",
     "start_time": "2020-03-11T17:08:08.917748Z"
    }
   },
   "outputs": [],
   "source": [
    "def doubler(f):\n",
    "    def g(x):\n",
    "        return 2 * f(x)\n",
    "    return g\n",
    "\n",
    "def f1(x):\n",
    "    return x + 1\n",
    "g = doubler(f1)\n",
    "\n",
    "assert g(3) == 8, \"(3+1) * 2 should equal 8\"\n",
    "assert g(-1) == 0, \"(-1 + 1) * 2 should equal 0\""
   ]
  },
  {
   "cell_type": "code",
   "execution_count": 93,
   "metadata": {
    "ExecuteTime": {
     "end_time": "2020-03-11T17:08:16.730019Z",
     "start_time": "2020-03-11T17:08:16.725070Z"
    }
   },
   "outputs": [
    {
     "name": "stdout",
     "output_type": "stream",
     "text": [
      "8\n"
     ]
    }
   ],
   "source": [
    "print(g(3))"
   ]
  },
  {
   "cell_type": "code",
   "execution_count": 94,
   "metadata": {
    "ExecuteTime": {
     "end_time": "2020-03-11T17:08:21.645479Z",
     "start_time": "2020-03-11T17:08:21.640480Z"
    }
   },
   "outputs": [
    {
     "name": "stdout",
     "output_type": "stream",
     "text": [
      "0\n"
     ]
    }
   ],
   "source": [
    "print(g(-1))"
   ]
  },
  {
   "cell_type": "markdown",
   "metadata": {},
   "source": [
    "This doesn't work with functions that have more than one argument:"
   ]
  },
  {
   "cell_type": "code",
   "execution_count": 95,
   "metadata": {
    "ExecuteTime": {
     "end_time": "2020-03-11T17:10:34.072652Z",
     "start_time": "2020-03-11T17:10:34.066710Z"
    }
   },
   "outputs": [
    {
     "name": "stdout",
     "output_type": "stream",
     "text": [
      "as defined, g only takes one argument\n"
     ]
    }
   ],
   "source": [
    "def f2(x,y):\n",
    "    return x + y\n",
    "\n",
    "g = doubler(f2)\n",
    "try:\n",
    "    g(1,2)\n",
    "except TypeError:\n",
    "    print(\"as defined, g only takes one argument\")"
   ]
  },
  {
   "cell_type": "markdown",
   "metadata": {},
   "source": [
    "What we need then is a way to specify a function that takes arbitrary arguments.\n",
    "\n",
    "We can do this with argument unpacking and some python magic"
   ]
  },
  {
   "cell_type": "code",
   "execution_count": 96,
   "metadata": {
    "ExecuteTime": {
     "end_time": "2020-03-11T17:13:17.154097Z",
     "start_time": "2020-03-11T17:13:17.147155Z"
    }
   },
   "outputs": [
    {
     "name": "stdout",
     "output_type": "stream",
     "text": [
      "unnamed args: (1, 2)\n",
      "keyword args: {'key': 'word', 'key2': 'word2'}\n"
     ]
    }
   ],
   "source": [
    "def magic(*args,**kwargs):\n",
    "    print(\"unnamed args:\", args)\n",
    "    print(\"keyword args:\", kwargs)\n",
    "    \n",
    "magic(1,2,key='word',key2='word2')"
   ]
  },
  {
   "cell_type": "markdown",
   "metadata": {},
   "source": [
    "When you define a function with `*args` and `**kwargs`, python interprets the first as an n-tuple of the unnamed arguments and a dict of the named arguments.\n",
    "\n",
    "It also works in reverse - you can supply arguments to a function from lists and dicts:"
   ]
  },
  {
   "cell_type": "code",
   "execution_count": 97,
   "metadata": {
    "ExecuteTime": {
     "end_time": "2020-03-11T17:39:55.205800Z",
     "start_time": "2020-03-11T17:39:55.200857Z"
    }
   },
   "outputs": [],
   "source": [
    "def other_way_magic(x,y,z):\n",
    "    return x + y + z\n",
    "\n",
    "x_y_list = [1,2]\n",
    "z_dict = {\"z\":3}\n",
    "\n",
    "assert other_way_magic(*x_y_list,**z_dict) == 6, \"1 + 2 + 3 should equal 6\""
   ]
  },
  {
   "cell_type": "markdown",
   "metadata": {},
   "source": [
    "You can do all kinds of weird stuff with this trick. \n",
    "\n",
    "We'll limit it to produce higher-order functions whose inputs can accept arbitrary arguments."
   ]
  },
  {
   "cell_type": "code",
   "execution_count": 98,
   "metadata": {
    "ExecuteTime": {
     "end_time": "2020-03-11T17:43:52.359080Z",
     "start_time": "2020-03-11T17:43:52.355663Z"
    }
   },
   "outputs": [],
   "source": [
    "def doubler_correct(f):\n",
    "    \"\"\"Works no matter what kind of inputs f expects\"\"\"\n",
    "    def g(*args,**kwargs):\n",
    "        \"\"\"whatever arguments g gets are passed to f\"\"\"\n",
    "        return 2 * f(*args, **kwargs)\n",
    "    return g\n",
    "\n",
    "g = doubler_correct(f2)\n",
    "assert g(1,2) == 6, \"doubler should work now\""
   ]
  },
  {
   "cell_type": "code",
   "execution_count": 99,
   "metadata": {
    "ExecuteTime": {
     "end_time": "2020-03-11T17:43:56.703767Z",
     "start_time": "2020-03-11T17:43:56.696788Z"
    }
   },
   "outputs": [
    {
     "data": {
      "text/plain": [
       "6"
      ]
     },
     "execution_count": 99,
     "metadata": {},
     "output_type": "execute_result"
    }
   ],
   "source": [
    "g(1,2)"
   ]
  },
  {
   "cell_type": "markdown",
   "metadata": {},
   "source": [
    "While this is a cool trick, its always better to be explicit about what arguments your functions take, so avoid using it."
   ]
  },
  {
   "cell_type": "markdown",
   "metadata": {},
   "source": [
    "# Type annotations"
   ]
  },
  {
   "cell_type": "markdown",
   "metadata": {},
   "source": [
    "Python is *dynamically typed*, meaning it doesn't care what data types you use as long as you use them validly:"
   ]
  },
  {
   "cell_type": "code",
   "execution_count": 102,
   "metadata": {
    "ExecuteTime": {
     "end_time": "2020-03-11T17:52:47.000953Z",
     "start_time": "2020-03-11T17:52:46.993463Z"
    }
   },
   "outputs": [
    {
     "name": "stdout",
     "output_type": "stream",
     "text": [
      "3 [4, 5, 6] Helloworld\n"
     ]
    }
   ],
   "source": [
    "def add(a,b):\n",
    "    return a + b\n",
    "\n",
    "print(add(1,2),\n",
    "      add([4,5],[6]),\n",
    "      add(\"Hello\",\"world\"))"
   ]
  },
  {
   "cell_type": "markdown",
   "metadata": {},
   "source": [
    "A *statically typed* language would by contrast only accept the prescribed types:"
   ]
  },
  {
   "cell_type": "code",
   "execution_count": 104,
   "metadata": {
    "ExecuteTime": {
     "end_time": "2020-03-11T17:54:36.650043Z",
     "start_time": "2020-03-11T17:54:36.645098Z"
    }
   },
   "outputs": [
    {
     "name": "stdout",
     "output_type": "stream",
     "text": [
      "15\n",
      "himum\n"
     ]
    }
   ],
   "source": [
    "def add2(a: int, b: int) -> int:\n",
    "    return a + b\n",
    "\n",
    "print(add2(10,5))\n",
    "print(add2(\"hi\",\"mum\")) # would raise an error"
   ]
  },
  {
   "cell_type": "markdown",
   "metadata": {},
   "source": [
    "## How to write type annotations"
   ]
  },
  {
   "cell_type": "markdown",
   "metadata": {},
   "source": [
    "Say you had a list as one of the inputs to your function:"
   ]
  },
  {
   "cell_type": "code",
   "execution_count": 105,
   "metadata": {
    "ExecuteTime": {
     "end_time": "2020-03-11T18:00:03.285122Z",
     "start_time": "2020-03-11T18:00:03.282684Z"
    }
   },
   "outputs": [],
   "source": [
    "def total(xs: list) -> float:\n",
    "    return sum(xs)"
   ]
  },
  {
   "cell_type": "markdown",
   "metadata": {},
   "source": [
    "This isn't wrong but its not explicit or specific enough.\n",
    "\n",
    "Say what we want is for `xs` to be a list of floats and not a list of strings.\n",
    "\n",
    "The `typing` module allows us to do this by providing a number of parameterised types that we can use to do just this:"
   ]
  },
  {
   "cell_type": "code",
   "execution_count": 108,
   "metadata": {
    "ExecuteTime": {
     "end_time": "2020-03-11T18:03:37.606683Z",
     "start_time": "2020-03-11T18:03:37.601698Z"
    }
   },
   "outputs": [],
   "source": [
    "from typing import List #Upper case L\n",
    "\n",
    "def total(xs:List[float] = [1,1,1]) -> float:\n",
    "    return sum(xs)"
   ]
  },
  {
   "cell_type": "code",
   "execution_count": 110,
   "metadata": {
    "ExecuteTime": {
     "end_time": "2020-03-11T18:03:43.093785Z",
     "start_time": "2020-03-11T18:03:43.087801Z"
    }
   },
   "outputs": [
    {
     "data": {
      "text/plain": [
       "3"
      ]
     },
     "execution_count": 110,
     "metadata": {},
     "output_type": "execute_result"
    }
   ],
   "source": [
    "test = [1.,2.,3.,4.]\n",
    "\n",
    "total()"
   ]
  },
  {
   "cell_type": "markdown",
   "metadata": {},
   "source": [
    "In cases where it isn't obvious what the type of an argument or variable is, you can supply inline hints:"
   ]
  },
  {
   "cell_type": "code",
   "execution_count": 112,
   "metadata": {
    "ExecuteTime": {
     "end_time": "2020-03-11T18:06:49.530345Z",
     "start_time": "2020-03-11T18:06:49.525362Z"
    }
   },
   "outputs": [],
   "source": [
    "from typing import Optional\n",
    "\n",
    "values: List[int] = []\n",
    "best_so_far: Optional[float] = None # can be float or None"
   ]
  },
  {
   "cell_type": "code",
   "execution_count": null,
   "metadata": {},
   "outputs": [],
   "source": []
  }
 ],
 "metadata": {
  "kernelspec": {
   "display_name": "Python 3",
   "language": "python",
   "name": "python3"
  },
  "language_info": {
   "codemirror_mode": {
    "name": "ipython",
    "version": 3
   },
   "file_extension": ".py",
   "mimetype": "text/x-python",
   "name": "python",
   "nbconvert_exporter": "python",
   "pygments_lexer": "ipython3",
   "version": "3.8.1"
  },
  "toc": {
   "base_numbering": 1,
   "nav_menu": {},
   "number_sections": true,
   "sideBar": true,
   "skip_h1_title": false,
   "title_cell": "Table of Contents",
   "title_sidebar": "Contents",
   "toc_cell": false,
   "toc_position": {},
   "toc_section_display": true,
   "toc_window_display": true
  }
 },
 "nbformat": 4,
 "nbformat_minor": 4
}
