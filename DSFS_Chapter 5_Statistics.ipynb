{
 "cells": [
  {
   "cell_type": "markdown",
   "metadata": {},
   "source": [
    "# Describing data"
   ]
  },
  {
   "cell_type": "code",
   "execution_count": 1,
   "metadata": {
    "ExecuteTime": {
     "end_time": "2020-03-13T14:19:50.040653Z",
     "start_time": "2020-03-13T14:19:50.034670Z"
    }
   },
   "outputs": [],
   "source": [
    "import random\n",
    "from typing import List"
   ]
  },
  {
   "cell_type": "code",
   "execution_count": 2,
   "metadata": {
    "ExecuteTime": {
     "end_time": "2020-03-13T14:19:50.049630Z",
     "start_time": "2020-03-13T14:19:50.043644Z"
    }
   },
   "outputs": [],
   "source": [
    "num_friends = [random.choice(range(101)) \n",
    "               for _ in range(1000)]"
   ]
  },
  {
   "cell_type": "code",
   "execution_count": 3,
   "metadata": {
    "ExecuteTime": {
     "end_time": "2020-03-13T14:19:50.961480Z",
     "start_time": "2020-03-13T14:19:50.052667Z"
    }
   },
   "outputs": [
    {
     "data": {
      "image/png": "[encoded data removed]",
      "text/plain": [
       "<Figure size 432x288 with 1 Axes>"
      ]
     },
     "metadata": {
      "needs_background": "light"
     },
     "output_type": "display_data"
    }
   ],
   "source": [
    "from collections import Counter\n",
    "import matplotlib.pyplot as plt\n",
    "%matplotlib inline\n",
    "\n",
    "friend_counts = Counter(num_friends)\n",
    "xs = range(101)\n",
    "ys = [friend_counts[x] for x in xs]\n",
    "plt.bar(xs,ys)\n",
    "plt.axis([0,101,0,25])\n",
    "plt.title(\"Histogram of friend counts\")\n",
    "plt.xlabel(\"# of friends\")\n",
    "plt.ylabel('# of people')\n",
    "plt.show()"
   ]
  },
  {
   "cell_type": "code",
   "execution_count": 4,
   "metadata": {
    "ExecuteTime": {
     "end_time": "2020-03-13T14:19:50.967422Z",
     "start_time": "2020-03-13T14:19:50.963741Z"
    }
   },
   "outputs": [],
   "source": [
    "num_points = len(num_friends)\n",
    "largest_value = max(num_friends)\n",
    "smallest_value = min(num_friends)"
   ]
  },
  {
   "cell_type": "markdown",
   "metadata": {},
   "source": [
    "# Central Tendency"
   ]
  },
  {
   "cell_type": "markdown",
   "metadata": {},
   "source": [
    "Usually we'll want some notion of where data is centred. Usually by this we mean the mean or average."
   ]
  },
  {
   "cell_type": "code",
   "execution_count": 5,
   "metadata": {
    "ExecuteTime": {
     "end_time": "2020-03-13T14:19:50.978406Z",
     "start_time": "2020-03-13T14:19:50.971416Z"
    }
   },
   "outputs": [
    {
     "data": {
      "text/plain": [
       "48.286"
      ]
     },
     "execution_count": 5,
     "metadata": {},
     "output_type": "execute_result"
    }
   ],
   "source": [
    "def mean(xs: List[float]) -> float:\n",
    "    return sum(xs)/len(xs)\n",
    "\n",
    "mean(num_friends)"
   ]
  },
  {
   "cell_type": "markdown",
   "metadata": {},
   "source": [
    "Then there's the median:"
   ]
  },
  {
   "cell_type": "code",
   "execution_count": 6,
   "metadata": {
    "ExecuteTime": {
     "end_time": "2020-03-13T14:19:50.988758Z",
     "start_time": "2020-03-13T14:19:50.979854Z"
    }
   },
   "outputs": [],
   "source": [
    "def _median_odd(xs: List[float]) -> float:\n",
    "    return sorted(xs)[len(xs) // 2]\n",
    "\n",
    "def _median_even(xs: List[float]) -> float:\n",
    "    sorted_xs = sorted(xs)\n",
    "    hi_midpoint = len(xs) // 2\n",
    "    return (sorted_xs[hi_midpoint - 1] + \n",
    "            sorted_xs[hi_midpoint]) / 2\n",
    "\n",
    "def median(v: List[float]) -> float:\n",
    "    return _median_even(v) if len(v) % 2 == 0 else _median_odd(v)"
   ]
  },
  {
   "cell_type": "code",
   "execution_count": 7,
   "metadata": {
    "ExecuteTime": {
     "end_time": "2020-03-13T14:19:50.999339Z",
     "start_time": "2020-03-13T14:19:50.992487Z"
    }
   },
   "outputs": [],
   "source": [
    "assert median([1,10,2,9,5]) == 5\n",
    "assert median([1,9,2,10]) == (2+9)/2"
   ]
  },
  {
   "cell_type": "markdown",
   "metadata": {},
   "source": [
    "A generalisation of the median is the *quantile*. \n",
    "\n",
    "Quantiles are the values under which a certain percentile of the data lies, with the median being 50%."
   ]
  },
  {
   "cell_type": "code",
   "execution_count": 8,
   "metadata": {
    "ExecuteTime": {
     "end_time": "2020-03-13T14:19:51.011305Z",
     "start_time": "2020-03-13T14:19:51.003332Z"
    }
   },
   "outputs": [
    {
     "name": "stdout",
     "output_type": "stream",
     "text": [
      "10\n",
      "72\n"
     ]
    }
   ],
   "source": [
    "def quantile(xs: List[float], p: float) -> float:\n",
    "    p_index = int(p * len(xs))\n",
    "    return sorted(xs)[p_index]\n",
    "\n",
    "print(quantile(num_friends,0.1))\n",
    "print(quantile(num_friends,0.75))"
   ]
  },
  {
   "cell_type": "markdown",
   "metadata": {},
   "source": [
    "You also may want to look at the mode, or the most common value:"
   ]
  },
  {
   "cell_type": "code",
   "execution_count": 9,
   "metadata": {
    "ExecuteTime": {
     "end_time": "2020-03-13T14:19:51.025280Z",
     "start_time": "2020-03-13T14:19:51.014307Z"
    }
   },
   "outputs": [
    {
     "data": {
      "text/plain": [
       "{6, 26, 39, 54}"
      ]
     },
     "execution_count": 9,
     "metadata": {},
     "output_type": "execute_result"
    }
   ],
   "source": [
    "def mode(x: List[float]) -> List[float]:\n",
    "    counts = Counter(x)\n",
    "    max_count = max(counts.values())\n",
    "    return [x_i for x_i, count in counts.items() \n",
    "            if count == max_count]\n",
    "\n",
    "set(mode(num_friends))"
   ]
  },
  {
   "cell_type": "markdown",
   "metadata": {},
   "source": [
    "# Dispersion"
   ]
  },
  {
   "cell_type": "markdown",
   "metadata": {},
   "source": [
    "A measure of how spread out data is.\n",
    "\n",
    "Typically near-zero dispersion measures mean not very spread out, with higher values meaning very spread out.\n",
    "\n",
    "A very simple measure of dispersion is the range:"
   ]
  },
  {
   "cell_type": "code",
   "execution_count": 10,
   "metadata": {
    "ExecuteTime": {
     "end_time": "2020-03-13T14:19:51.032885Z",
     "start_time": "2020-03-13T14:19:51.027301Z"
    }
   },
   "outputs": [
    {
     "name": "stdout",
     "output_type": "stream",
     "text": [
      "99\n"
     ]
    }
   ],
   "source": [
    "from typing import List\n",
    "import random\n",
    "\n",
    "def data_range(xs: List[float]) -> float:\n",
    "    return max(xs) - min(xs)\n",
    "\n",
    "test_range = [random.choice(range(100)) for _ in range(100)]\n",
    "\n",
    "print(data_range(test_range))"
   ]
  },
  {
   "cell_type": "markdown",
   "metadata": {},
   "source": [
    "A more complex measure of dispersion is the variance of a data set:"
   ]
  },
  {
   "cell_type": "code",
   "execution_count": null,
   "metadata": {},
   "outputs": [],
   "source": []
  }
 ],
 "metadata": {
  "kernelspec": {
   "display_name": "Python [conda env:dsfs]",
   "language": "python",
   "name": "conda-env-dsfs-py"
  },
  "language_info": {
   "codemirror_mode": {
    "name": "ipython",
    "version": 3
   },
   "file_extension": ".py",
   "mimetype": "text/x-python",
   "name": "python",
   "nbconvert_exporter": "python",
   "pygments_lexer": "ipython3",
   "version": "3.6.10"
  },
  "toc": {
   "base_numbering": 1,
   "nav_menu": {},
   "number_sections": true,
   "sideBar": true,
   "skip_h1_title": false,
   "title_cell": "Table of Contents",
   "title_sidebar": "Contents",
   "toc_cell": false,
   "toc_position": {},
   "toc_section_display": true,
   "toc_window_display": false
  }
 },
 "nbformat": 4,
 "nbformat_minor": 2
}
