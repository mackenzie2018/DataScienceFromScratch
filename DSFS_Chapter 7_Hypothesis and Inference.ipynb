{
 "cells": [
  {
   "cell_type": "code",
   "execution_count": 1,
   "metadata": {
    "ExecuteTime": {
     "end_time": "2020-04-05T19:20:33.279372Z",
     "start_time": "2020-04-05T19:20:33.276171Z"
    }
   },
   "outputs": [],
   "source": [
    "import sys\n",
    "sys.path.append(\"./git/\")"
   ]
  },
  {
   "cell_type": "markdown",
   "metadata": {},
   "source": [
    "# Introduction"
   ]
  },
  {
   "cell_type": "markdown",
   "metadata": {},
   "source": [
    "As scientists, among whom *data* scientists are a component sub-group, we are generally trying to answer some question which we have some idea or intuition about: we are trying to test a hypothesis.\n",
    "\n",
    "Q: How does the language of scientific experiment translate to the realm of statistics?\n",
    "\n",
    "A: Through the concept of **Hypothesis Testing**."
   ]
  },
  {
   "cell_type": "markdown",
   "metadata": {},
   "source": [
    "## Flipping a coin"
   ]
  },
  {
   "cell_type": "markdown",
   "metadata": {},
   "source": [
    "Imagine we are tossing a coin, and we want to test whether or not the coin is fair.\n",
    "\n",
    "We'll assume that the coin has some probability `p` of landing heads.\n",
    "\n",
    "Our *null hypothesis* is that the coin is fair and `p = 0.5`.\n",
    "\n",
    "We will test this against the alternative hypothesis that `p != 0.5`.\n",
    "\n",
    "Specifcally, we will toss a coin `n` times and count the number of heads, `X`. Each coin flip is a Bernoulli trial, which means that `X` is a Binomial(n,p) random variable, which we can approxiate with the normal distribution."
   ]
  },
  {
   "cell_type": "code",
   "execution_count": 1,
   "metadata": {
    "ExecuteTime": {
     "end_time": "2020-04-03T19:39:28.604358Z",
     "start_time": "2020-04-03T19:39:28.596794Z"
    }
   },
   "outputs": [],
   "source": [
    "from typing import Tuple\n",
    "import math\n",
    "\n",
    "def normal_approximation_to_binomial(n: int, \n",
    "                                     p: float) -> Tuple[float,float]:\n",
    "    \"\"\"Returns mu and sigma corresponding to a Binomial(n,p)\"\"\"\n",
    "    mu = n * p\n",
    "    sigma = math.sqrt(p * (1 - p) * n)\n",
    "    return mu, sigma"
   ]
  },
  {
   "cell_type": "markdown",
   "metadata": {},
   "source": [
    "Whenever a random variable follows a normal distribution, we can use `normal_cdf` to figure out the probability that its realised value lies within or outside a particular interval:"
   ]
  },
  {
   "cell_type": "code",
   "execution_count": 3,
   "metadata": {
    "ExecuteTime": {
     "end_time": "2020-04-03T19:40:57.673330Z",
     "start_time": "2020-04-03T19:40:57.666383Z"
    }
   },
   "outputs": [
    {
     "data": {
      "text/plain": [
       "<Figure size 432x288 with 0 Axes>"
      ]
     },
     "metadata": {},
     "output_type": "display_data"
    }
   ],
   "source": [
    "from scratch.probability import normal_cdf"
   ]
  },
  {
   "cell_type": "code",
   "execution_count": 5,
   "metadata": {
    "ExecuteTime": {
     "end_time": "2020-04-03T19:44:55.262620Z",
     "start_time": "2020-04-03T19:44:55.255638Z"
    }
   },
   "outputs": [],
   "source": [
    "normal_probability_below = normal_cdf\n",
    "\n",
    "def normal_probability_above(lo: float,\n",
    "                             mu: float = 0,\n",
    "                             sigma: float = 1) -> float:\n",
    "    return 1 - normal_cdf(lo,mu,sigma)\n",
    "\n",
    "def normal_probability_between(lo: float,\n",
    "                               hi: float,\n",
    "                               mu: float = 0,\n",
    "                               sigma: float = 1) -> float:\n",
    "    return normal_cdf(hi,mu,sigma) - normal_cdf(lo,mu,sigma)\n",
    "\n",
    "def normal_probability_outside(lo: float,\n",
    "                               hi: float,\n",
    "                               mu: float,\n",
    "                               sigma: float = 1) -> float:\n",
    "    return 1 - normal_probability_between(lo,hi,mu,sigma)"
   ]
  },
  {
   "cell_type": "markdown",
   "metadata": {},
   "source": [
    "# p-values"
   ]
  },
  {
   "cell_type": "code",
   "execution_count": null,
   "metadata": {},
   "outputs": [],
   "source": []
  }
 ],
 "metadata": {
  "kernelspec": {
   "display_name": "Python 3",
   "language": "python",
   "name": "python3"
  },
  "language_info": {
   "codemirror_mode": {
    "name": "ipython",
    "version": 3
   },
   "file_extension": ".py",
   "mimetype": "text/x-python",
   "name": "python",
   "nbconvert_exporter": "python",
   "pygments_lexer": "ipython3",
   "version": "3.8.1"
  },
  "toc": {
   "base_numbering": 1,
   "nav_menu": {},
   "number_sections": true,
   "sideBar": true,
   "skip_h1_title": false,
   "title_cell": "Table of Contents",
   "title_sidebar": "Contents",
   "toc_cell": false,
   "toc_position": {},
   "toc_section_display": true,
   "toc_window_display": false
  }
 },
 "nbformat": 4,
 "nbformat_minor": 4
}
